{
 "cells": [
  {
   "cell_type": "code",
   "execution_count": 2,
   "id": "12d3021d",
   "metadata": {},
   "outputs": [
    {
     "name": "stderr",
     "output_type": "stream",
     "text": [
      "/home/quentin/dev/podcast_transcription/.venv/lib/python3.12/site-packages/tqdm/auto.py:21: TqdmWarning: IProgress not found. Please update jupyter and ipywidgets. See https://ipywidgets.readthedocs.io/en/stable/user_install.html\n",
      "  from .autonotebook import tqdm as notebook_tqdm\n"
     ]
    }
   ],
   "source": [
    "from transformers import VoxtralForConditionalGeneration, AutoProcessor, BitsAndBytesConfig\n",
    "import torch"
   ]
  },
  {
   "cell_type": "code",
   "execution_count": null,
   "id": "d21b1110",
   "metadata": {},
   "outputs": [],
   "source": [
    "# model used (name from huggingface)\n",
    "repo_id = 'mistralai/Voxtral-Mini-3B-2507'"
   ]
  },
  {
   "cell_type": "markdown",
   "id": "3c3a73b2",
   "metadata": {},
   "source": [
    "#### quantization config"
   ]
  },
  {
   "cell_type": "code",
   "execution_count": null,
   "id": "cec4e114",
   "metadata": {},
   "outputs": [],
   "source": [
    "bnb_config = BitsAndBytesConfig(\n",
    "    load_in_4bit=True,\n",
    "    bnb_4bit_quant_type='nf4',\n",
    "    bnb_4bit_compute_dtype=torch.bfloat16,\n",
    "    # bnb_4bit_use_double_quant=True\n",
    ")"
   ]
  },
  {
   "cell_type": "markdown",
   "id": "1646ad64",
   "metadata": {},
   "source": [
    "#### load processor & model"
   ]
  },
  {
   "cell_type": "code",
   "execution_count": null,
   "id": "295ed2ed",
   "metadata": {},
   "outputs": [],
   "source": [
    "processor = AutoProcessor.from_pretrained(repo_id)\n",
    "model = VoxtralForConditionalGeneration.from_pretrained(\n",
    "    repo_id,\n",
    "    quantization_config=bnb_config,\n",
    "    # device_map=\"auto\",\n",
    "    \n",
    "    # if gpu is full, will swap some part to the disk\n",
    "    offload_folder=\"/home/quentin/dev/podcast_transcription/.offload\",\n",
    ")"
   ]
  }
 ],
 "metadata": {
  "kernelspec": {
   "display_name": ".venv",
   "language": "python",
   "name": "python3"
  },
  "language_info": {
   "codemirror_mode": {
    "name": "ipython",
    "version": 3
   },
   "file_extension": ".py",
   "mimetype": "text/x-python",
   "name": "python",
   "nbconvert_exporter": "python",
   "pygments_lexer": "ipython3",
   "version": "3.12.3"
  }
 },
 "nbformat": 4,
 "nbformat_minor": 5
}
