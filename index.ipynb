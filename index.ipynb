{
 "cells": [
  {
   "cell_type": "code",
   "execution_count": 1,
   "id": "12d3021d",
   "metadata": {},
   "outputs": [],
   "source": [
    "import os\n",
    "from pywhispercpp.model import Model\n",
    "import sqlite3\n",
    "from pathlib import Path\n",
    "from yt_dlp import YoutubeDL\n",
    "import re"
   ]
  },
  {
   "cell_type": "markdown",
   "id": "45016206",
   "metadata": {},
   "source": [
    "### config"
   ]
  },
  {
   "cell_type": "code",
   "execution_count": 2,
   "id": "ea9e08d2",
   "metadata": {},
   "outputs": [],
   "source": [
    "db_path = 'data/podcast.db'\n",
    "\n",
    "input_files_dir = Path('input_files/')\n",
    "# print(input_files_dir.resolve())\n",
    "# print(list(input_files_dir.glob('*.mp3')))\n",
    "file = './s10e43_tiny_benchmark.mp3'"
   ]
  },
  {
   "cell_type": "markdown",
   "id": "f119a434",
   "metadata": {},
   "source": [
    "### database"
   ]
  },
  {
   "cell_type": "markdown",
   "id": "2c0a32e9",
   "metadata": {},
   "source": [
    "##### init database"
   ]
  },
  {
   "cell_type": "code",
   "execution_count": 3,
   "id": "a9488635",
   "metadata": {},
   "outputs": [],
   "source": [
    "# create a folder data/ if doesn't exist yet\n",
    "os.makedirs('data', exist_ok=True)\n",
    "\n",
    "# create/connect to sqlite database\n",
    "def get_connection():\n",
    "    return sqlite3.connect(db_path)"
   ]
  },
  {
   "cell_type": "code",
   "execution_count": null,
   "id": "3e0c0910",
   "metadata": {},
   "outputs": [],
   "source": [
    "# create db structure\n",
    "def init_db():\n",
    "    with get_connection() as db:\n",
    "        cursor = db.cursor()\n",
    "\n",
    "        # episodes table\n",
    "        cursor.execute(\"\"\"\n",
    "            CREATE TABLE IF NOT EXISTS episodes (\n",
    "                id INTEGER PRIMARY KEY,\n",
    "                title TEXT,\n",
    "                date TEXT,\n",
    "                url_path TEXT,\n",
    "                description TEXT,\n",
    "                season_number INTEGER,\n",
    "                episode_number INTEGER,\n",
    "                index_number INTEGER\n",
    "            )\n",
    "        \"\"\")\n",
    "\n",
    "        # participants table\n",
    "        cursor.execute(\"\"\"\n",
    "            CREATE TABLE IF NOT EXISTS participants (\n",
    "                id INTEGER PRIMARY KEY,\n",
    "                name TEXT NOT NULL\n",
    "            )\n",
    "        \"\"\")\n",
    "\n",
    "        # transcript segments table\n",
    "        cursor.execute(\"\"\"\n",
    "            CREATE TABLE IF NOT EXISTS transcription_segments (\n",
    "                id INTEGER PRIMARY KEY,\n",
    "                episode_id INTEGER REFERENCES episodes(id),\n",
    "                start_time REAL,\n",
    "                end_time REAL,\n",
    "                text TEXT,\n",
    "                participant_id INTEGER REFERENCES participants(id) -- speaker for diarisation\n",
    "            )\n",
    "        \"\"\")\n",
    "\n",
    "        # --- junction table for a participant in an episode\n",
    "        cursor.execute(\"\"\"\n",
    "            CREATE TABLE IF NOT EXISTS episodes_participants (\n",
    "                episode_id INTEGER REFERENCES episodes(id),\n",
    "                participant_id INTEGER REFERENCES participants(id),\n",
    "                role TEXT,\n",
    "                PRIMARY KEY (episode_id, participant_id)\n",
    "            )\n",
    "        \"\"\")\n",
    "\n",
    "        db.commit()\n",
    "\n",
    "# init the db\n",
    "init_db()"
   ]
  },
  {
   "cell_type": "markdown",
   "id": "95283dc2",
   "metadata": {},
   "source": [
    "##### check the structure of the tables"
   ]
  },
  {
   "cell_type": "code",
   "execution_count": 4,
   "id": "4d007b4a",
   "metadata": {},
   "outputs": [
    {
     "name": "stdout",
     "output_type": "stream",
     "text": [
      "\n",
      "episodes\n",
      "(0, 'id', 'INTEGER', 0, None, 1)\n",
      "(1, 'title', 'TEXT', 0, None, 0)\n",
      "(2, 'date', 'TEXT', 0, None, 0)\n",
      "(3, 'url_path', 'TEXT', 0, None, 0)\n",
      "(4, 'description', 'TEXT', 0, None, 0)\n",
      "(5, 'season_number', 'INTEGER', 0, None, 0)\n",
      "(6, 'episode_number', 'INTEGER', 0, None, 0)\n",
      "(7, 'index_number', 'INTEGER', 0, None, 0)\n",
      "\n",
      "participants\n",
      "(0, 'id', 'INTEGER', 0, None, 1)\n",
      "(1, 'name', 'TEXT', 1, None, 0)\n",
      "\n",
      "transcription_segments\n",
      "(0, 'id', 'INTEGER', 0, None, 1)\n",
      "(1, 'episode_id', 'INTEGER', 0, None, 0)\n",
      "(2, 'start_time', 'REAL', 0, None, 0)\n",
      "(3, 'end_time', 'REAL', 0, None, 0)\n",
      "(4, 'text', 'TEXT', 0, None, 0)\n",
      "(5, 'participant_id', 'INTEGER', 0, None, 0)\n",
      "\n",
      "episodes_participants\n",
      "(0, 'episode_id', 'INTEGER', 0, None, 1)\n",
      "(1, 'participant_id', 'INTEGER', 0, None, 2)\n",
      "(2, 'role', 'TEXT', 0, None, 0)\n"
     ]
    }
   ],
   "source": [
    "def inspect_table_structure(table_name):\n",
    "    \"\"\"Inspect and print table structure\"\"\"\n",
    "    with get_connection() as db:\n",
    "        cursor = db.cursor()\n",
    "        cursor.execute(f'PRAGMA table_info({table_name})')\n",
    "        print(f'\\n{table_name}')\n",
    "        for col in cursor.fetchall():\n",
    "            print(col)\n",
    "\n",
    "# Usage\n",
    "tables = ['episodes', 'participants', 'transcription_segments', 'episodes_participants']\n",
    "for table in tables:\n",
    "    inspect_table_structure(table)"
   ]
  },
  {
   "cell_type": "markdown",
   "id": "86b26580",
   "metadata": {},
   "source": [
    "### model"
   ]
  },
  {
   "cell_type": "code",
   "execution_count": 5,
   "id": "70cefed6",
   "metadata": {},
   "outputs": [],
   "source": [
    "# model = Model(model='large-v3', models_dir='./whisper.cpp/models')\n",
    "# model = Model(model='base.en', models_dir='./whisper.cpp/models')\n",
    "\n",
    "def get_model(model_name:str):\n",
    "    return Model(model=model_name, models_dir='./whisper.cpp/models')"
   ]
  },
  {
   "cell_type": "markdown",
   "id": "773d1a0b",
   "metadata": {},
   "source": [
    "### process episode - insert episode into sqlite db"
   ]
  },
  {
   "cell_type": "markdown",
   "id": "156174bc",
   "metadata": {},
   "source": [
    "##### gathering episode data"
   ]
  },
  {
   "cell_type": "code",
   "execution_count": 6,
   "id": "8b57c8b3",
   "metadata": {},
   "outputs": [],
   "source": [
    "# get the season number as well as the episode number from the title string\n",
    "# the title string should be formated as such 'S01E01...'\n",
    "# it will then return season and episode as a number\n",
    "def extract_season_episode(episode_title:str):\n",
    "    if episode_title is None:\n",
    "        return None, None\n",
    "\n",
    "    pattern_to_find = r'S(\\d+)E(\\d+)'\n",
    "    match = re.search(pattern_to_find, episode_title)\n",
    "\n",
    "    if match:\n",
    "        season_number = int(match.group(1))\n",
    "        episode_number = int(match.group(2))\n",
    "    else:\n",
    "        season_number = None\n",
    "        episode_number = None\n",
    "\n",
    "    return season_number, episode_number\n",
    "\n",
    "# function to convert the index number to reverse\n",
    "# def convert_index_number():\n",
    "#     print('convert index')\n",
    "\n",
    "# getting episode data\n",
    "def fetch_episodes_data(feed_url, episode_items):\n",
    "    ydl_config = {\n",
    "        'extract_flat': False,\n",
    "        'playlist_items': episode_items,\n",
    "        'quiet': True,\n",
    "        'skip_download': True\n",
    "    }\n",
    "    with YoutubeDL(ydl_config) as ydl:\n",
    "        info = ydl.extract_info(feed_url) # gather data from the feed url\n",
    "        episodes = info.get('entries', [info]) # make up a list of items from the fetched entries\n",
    "        return [\n",
    "            {\n",
    "                \"title\": episode.get(\"title\"),\n",
    "                \"description\": episode.get(\"description\"),\n",
    "                \"url\": episode.get(\"webpage_url\") or episode.get(\"original_url\"),\n",
    "                \"upload_date\": episode.get(\"upload_date\"),\n",
    "                \"playlist_index\": episode.get(\"playlist_index\"),\n",
    "                \"season_number\": season,\n",
    "                \"episode_number\": episode_num,\n",
    "            }\n",
    "            for episode in episodes\n",
    "            for season, episode_num in [extract_season_episode(episode.get('title'))]\n",
    "        ]"
   ]
  },
  {
   "cell_type": "code",
   "execution_count": 7,
   "id": "83a2c824",
   "metadata": {},
   "outputs": [],
   "source": [
    "# download episode\n",
    "def download_episode(episode_url, download_path, episode_filename):\n",
    "\n",
    "    os.makedirs(download_path, exist_ok=True)\n",
    "\n",
    "    ydl_config = {\n",
    "        'outtmpl': f\"{download_path}/{episode_filename}.%(ext)s\",\n",
    "        # 'format':'',\n",
    "        'quiet': True\n",
    "    }\n",
    "    with YoutubeDL(ydl_config) as ydl:\n",
    "        ydl.download([episode_url])\n",
    "    # print(f'downloaded episode : {download_path}/{episode_filename}')\n",
    "\n",
    "    # return the actual file path\n",
    "    return f\"{download_path}/{episode_filename}.mp3\""
   ]
  },
  {
   "cell_type": "code",
   "execution_count": 24,
   "id": "930f5cd5",
   "metadata": {},
   "outputs": [
    {
     "name": "stderr",
     "output_type": "stream",
     "text": [
      "WARNING: [generic] Falling back on generic information extractor\n"
     ]
    },
    {
     "data": {
      "text/plain": [
       "[{'title': 'S02E02 - Postiche de Fouffe',\n",
       "  'description': '<p>Avec Maud Givert, Sophie Riche et Sophie-Marie Larrouy.</p><br><p>Présenté par Florent Bernard et Adrien Ménielle.</p><br><p>Dans ce podcast, après le traditionnel tour de table de ce qu\\'on a kiffé récemment et une longue parenthèse sur le film \"Pattaya\", nous parlons de nos ratés estivaux, nos vacances gâchés, bref que c\\'était bien de la merde nos étés.</p><hr><p style=\\'color:grey; font-size:0.75em;\\'> Hébergé par Acast. Visitez <a style=\\'color:grey;\\' target=\\'_blank\\' rel=\\'noopener noreferrer\\' href=\\'https://acast.com/privacy\\'>acast.com/privacy</a> pour plus d\\'informations.</p>',\n",
       "  'url': 'https://sphinx.acast.com/p/open/s/5ffe3facad3e633276e9ea57/e/tag%3Asoundcloud%2C2010%3Atracks%2F285183974/media.mp3#__youtubedl_smuggle=%7B%22force_videoid%22%3A+%22tag%3Asoundcloud%2C2010%3Atracks%2F285183974%22%7D',\n",
       "  'upload_date': '20160928',\n",
       "  'playlist_index': 240,\n",
       "  'season_number': 2,\n",
       "  'episode_number': 2},\n",
       " {'title': 'S02E01 - Live @ Frames 2016',\n",
       "  'description': \"Avec Patrick Baud, Charlie Danger, Slimane Baptiste Berhoun, Thomas Hercouet, François Descraques et Adrien MénielleNouvelle saison de Floodcast avec pour fêter ça un épisode EN PUBLIC au Frames Festival 2016 ! Dans cette émission, on parle du fait de sortir de sa zone de confort, cet endroit douillet et chaud mais ennuyeux et triste si on reste trop longtemps dedans.C'était mon premier épisode en public, désolé pour les petits bugs de son et le ton parfois un peu moins naturel que dans mon salon, mais c'est aussi ça sortir de sa zone de confort : ça fait flipper.<hr><p style='color:grey; font-size:0.75em;'> Hébergé par Acast. Visitez <a style='color:grey;' target='_blank' rel='noopener noreferrer' href='https://acast.com/privacy'>acast.com/privacy</a> pour plus d'informations.</p>\",\n",
       "  'url': 'https://sphinx.acast.com/p/open/s/5ffe3facad3e633276e9ea57/e/tag%3Asoundcloud%2C2010%3Atracks%2F282640643/media.mp3#__youtubedl_smuggle=%7B%22force_videoid%22%3A+%22tag%3Asoundcloud%2C2010%3Atracks%2F282640643%22%7D',\n",
       "  'upload_date': '20160913',\n",
       "  'playlist_index': 241,\n",
       "  'season_number': 2,\n",
       "  'episode_number': 1},\n",
       " {'title': 'S01E09 - Oh ça va...',\n",
       "  'description': \"<p>Avec Anne-Sophie Girard, Simon Astier et Nicolas Berno.</p><br><p>Présenté par Florent Bernard et Adrien Ménielle. </p><br><p> Dans cette émission, nous abordons un sujet à priori simple: qu'est-ce qui différence un connard de quelqu'un de bien ? La bouffonne de la meuf sympa ? La baltringue du gentil ?</p><hr><p style='color:grey; font-size:0.75em;'> Hébergé par Acast. Visitez <a style='color:grey;' target='_blank' rel='noopener noreferrer' href='https://acast.com/privacy'>acast.com/privacy</a> pour plus d'informations.</p>\",\n",
       "  'url': 'https://sphinx.acast.com/p/open/s/5ffe3facad3e633276e9ea57/e/tag%3Asoundcloud%2C2010%3Atracks%2F260424472/media.mp3#__youtubedl_smuggle=%7B%22force_videoid%22%3A+%22tag%3Asoundcloud%2C2010%3Atracks%2F260424472%22%7D',\n",
       "  'upload_date': '20160424',\n",
       "  'playlist_index': 242,\n",
       "  'season_number': 1,\n",
       "  'episode_number': 9}]"
      ]
     },
     "execution_count": 24,
     "metadata": {},
     "output_type": "execute_result"
    }
   ],
   "source": [
    "# usage test\n",
    "fetch_episodes_data('https://feeds.acast.com/public/shows/floodcast', '240-242')\n",
    "# fetch_episodes_data('https://feeds.acast.com/public/shows/floodcast', '240-250')\n",
    "# test_url_episode = 'https://sphinx.acast.com/p/open/s/5ffe3facad3e633276e9ea57/e/tag%3Asoundcloud%2C2010%3Atracks%2F285183974/media.mp3#__youtubedl_smuggle=%7B%22force_videoid%22%3A+%22tag%3Asoundcloud%2C2010%3Atracks%2F285183974%22%7D'\n",
    "# download_episode(test_url_episode, './output', 'panchour')\n",
    "# extract_season_episode('S22E46 - Postiche de Fouffe')"
   ]
  },
  {
   "cell_type": "markdown",
   "id": "2409c833",
   "metadata": {},
   "source": [
    "##### create episode into db"
   ]
  },
  {
   "cell_type": "code",
   "execution_count": 8,
   "id": "4547142a",
   "metadata": {},
   "outputs": [],
   "source": [
    "# insert episode into db\n",
    "def create_episode_in_db(episode_data):\n",
    "    try:\n",
    "        with get_connection() as db:\n",
    "            cursor = db.cursor()\n",
    "            cursor.execute(\"\"\"\n",
    "                INSERT INTO episodes (title, date, url_path, description, season_number, episode_number, index_number)\n",
    "                VALUES (?,?,?,?,?,?,?)\n",
    "            \"\"\", (\n",
    "                episode_data.get('title'),\n",
    "                episode_data.get('upload_date'),\n",
    "                episode_data.get('url'),\n",
    "                episode_data.get('description'),\n",
    "                episode_data.get('season_number'),\n",
    "                episode_data.get('episode_number'),\n",
    "                episode_data.get('playlist_index')\n",
    "            ))\n",
    "            \n",
    "            db.commit()\n",
    "            episode_id = cursor.lastrowid\n",
    "            print('episode created in db with id :',{episode_id})\n",
    "\n",
    "        return episode_id\n",
    "    except Exception as e:\n",
    "        print(f'Error creating episode in DB: {e}')\n",
    "        return None"
   ]
  },
  {
   "cell_type": "markdown",
   "id": "ebc09207",
   "metadata": {},
   "source": [
    "### process episode - create episode transcriptions & store segments into sqlite db"
   ]
  },
  {
   "cell_type": "markdown",
   "id": "614c02af",
   "metadata": {},
   "source": [
    "##### transcription function"
   ]
  },
  {
   "cell_type": "markdown",
   "id": "0a0a9116",
   "metadata": {},
   "source": [
    "for testing whispercpp parameters"
   ]
  },
  {
   "cell_type": "code",
   "execution_count": 9,
   "id": "0eef854c",
   "metadata": {},
   "outputs": [],
   "source": [
    "def transcribe(file_path:str, model_name):\n",
    "\n",
    "    model = get_model(model_name=model_name)\n",
    "\n",
    "    print('starting transcription...')\n",
    "    transcription = model.transcribe(\n",
    "        file_path, \n",
    "        language='fr',\n",
    "        temperature=0.0,\n",
    "        print_progress=True,\n",
    "        extract_probability=False\n",
    "    )\n",
    "    print('end transcription',transcription)\n",
    "    return transcription\n",
    "\n",
    "# help(Model.transcribe)\n",
    "# ?Model.transcribe"
   ]
  },
  {
   "cell_type": "markdown",
   "id": "d5c93dd9",
   "metadata": {},
   "source": [
    "##### clean transcriptions"
   ]
  },
  {
   "cell_type": "markdown",
   "id": "eed1e4c6",
   "metadata": {},
   "source": [
    "##### store transcription segments into db"
   ]
  },
  {
   "cell_type": "code",
   "execution_count": null,
   "id": "a3971825",
   "metadata": {},
   "outputs": [],
   "source": [
    "# print la transcription dans un fichier\n",
    "# def transcribe_into_file(file:str):\n",
    "\n",
    "#     # directory to store the transcriptions into \n",
    "#     output_directory = 'transcriptions_output'\n",
    "#     os.makedirs(f'./{output_directory}', exist_ok=True)\n",
    "\n",
    "#     # name of the transcription output file\n",
    "#     # (using the name of the file given as params)\n",
    "#     base_name = os.path.splitext(file)[0]\n",
    "#     output_file_name = f\"{base_name}.txt\"\n",
    "\n",
    "#     # writing transcriptions in file\n",
    "#     with open(f'./{output_directory}/{output_file_name}','w',encoding='utf-8') as output_file:\n",
    "#         for segment in transcribe(file):\n",
    "#             output_file.write(f'{segment.text}')\n",
    "#             # print(segment)"
   ]
  },
  {
   "cell_type": "code",
   "execution_count": 10,
   "id": "5b769537",
   "metadata": {},
   "outputs": [],
   "source": [
    "# def transcribe_into_db(input_files_dir):\n",
    "    \n",
    "#     # for each files in the input audio files folder, it get the transcription, \n",
    "#     # and then stores it in the db\n",
    "#     for audio_file in input_files_dir.glob('*.mp3'):\n",
    "\n",
    "#         print(f\"file being processed : {audio_file.name}\")\n",
    "        \n",
    "#         # create episode and get its id\n",
    "#         episode_id = create_episode_in_db(audio_file)\n",
    "\n",
    "#         # store transcription segment of the episode into db\n",
    "#         with get_connection() as db:\n",
    "#             cursor = db.cursor()\n",
    "\n",
    "#             for transcription_segment in transcribe(audio_file.name):\n",
    "#                 start = transcription_segment.t0\n",
    "#                 end = transcription_segment.t1\n",
    "#                 text = transcription_segment.text.strip()\n",
    "\n",
    "#                 cursor.execute(\"\"\"\n",
    "#                     INSERT INTO transcription_segments (episode_id, start_time, end_time, text)\n",
    "#                     VALUES (?,?,?,?)\n",
    "#                 \"\"\", (episode_num, start, end, text))\n",
    "\n",
    "#             db.commit()\n",
    "\n",
    "# store transcription segment of the episode in db\n",
    "def store_transcripts_in_db(transcript_segments, episode_id):\n",
    "    print('store_transcript_in_db - start')\n",
    "    with get_connection() as db:\n",
    "        cursor = db.cursor()\n",
    "\n",
    "        for transcript_segment in transcript_segments:\n",
    "            start = transcript_segment.t0\n",
    "            end = transcript_segment.t1\n",
    "            text = transcript_segment.text.strip()\n",
    "\n",
    "            cursor.execute(\"\"\"\n",
    "                INSERT INTO transcription_segments (episode_id, start_time, end_time, text)\n",
    "                VALUES (?,?,?,?)\n",
    "            \"\"\", (episode_id, start, end, text))\n",
    "\n",
    "        db.commit()\n",
    "    print('store_transcript_in_db - end')\n",
    "\n",
    "    # print('transcripts stored for episode with id :',{episode_id})"
   ]
  },
  {
   "cell_type": "markdown",
   "id": "90578a4b",
   "metadata": {},
   "source": [
    "### process episode - create embeddings & store into vector db"
   ]
  },
  {
   "cell_type": "markdown",
   "id": "e7bc27be",
   "metadata": {},
   "source": [
    "##### create embeddings"
   ]
  },
  {
   "cell_type": "markdown",
   "id": "73c8c7f8",
   "metadata": {},
   "source": [
    "##### store embeding into vector db"
   ]
  },
  {
   "cell_type": "markdown",
   "id": "e0d9ea8d",
   "metadata": {},
   "source": [
    "### main function"
   ]
  },
  {
   "cell_type": "code",
   "execution_count": 11,
   "id": "6c21aec3",
   "metadata": {},
   "outputs": [],
   "source": [
    "# - get the data of the episode(s)\n",
    "# - download the audio file\n",
    "# - create the episode in the db\n",
    "def process_episodes(\n",
    "        feed_url, \n",
    "        episodes_items, \n",
    "        download=False, \n",
    "        download_path='./files_to_transcribe', \n",
    "        transcription=False, \n",
    "        model_name='base.en'\n",
    "    ):\n",
    "    episodes = fetch_episodes_data(feed_url, episodes_items)\n",
    "\n",
    "    for episode in episodes:\n",
    "\n",
    "        # format file name with season and episode number\n",
    "        episode_filename = f\"s{episode['season_number']}e{episode['episode_number']}\"\n",
    "        print('processing episode :', episode_filename)\n",
    "        \n",
    "        # create episode in db\n",
    "        episode_id = create_episode_in_db(episode)\n",
    "        print('episode id in db :',episode_id)\n",
    "\n",
    "        # download the episode file\n",
    "        if download:\n",
    "            episode_file_path = download_episode(episode['url'],download_path, episode_filename)\n",
    "\n",
    "        # transcribe the episode file and store its transcription segments in the db\n",
    "        if download and episode_file_path and transcription:\n",
    "\n",
    "            print('start transcription of episode with filename:',episode_file_path)\n",
    "\n",
    "            # getting the transcription segments generated by whisper\n",
    "            transcript_segments = transcribe(episode_file_path, model_name)\n",
    "            # storing the gathered segments and store them in db\n",
    "            store_transcripts_in_db(transcript_segments, episode_id)\n",
    "\n",
    "        if transcription and not download:\n",
    "            print('download must be true in order to be able to make transcriptions')"
   ]
  },
  {
   "cell_type": "markdown",
   "id": "50d63361",
   "metadata": {},
   "source": [
    "### usage"
   ]
  },
  {
   "cell_type": "markdown",
   "id": "2bf5b738",
   "metadata": {},
   "source": [
    "parameters to provide :\n",
    "- feed_url : the url for the podcast feed\n",
    "- episodes_items :  to get (example : '1' for the episode 1, '1-200' for a range from episode 1 to 200)\n",
    "- download : turn download on/off\n",
    "- download_path : path for the audio files (if not given, no episode downloaded)\n",
    "- transcription : turn transcription on/off\n",
    "- model_name : the model to use for the transcription"
   ]
  },
  {
   "cell_type": "code",
   "execution_count": null,
   "id": "4e2eb539",
   "metadata": {},
   "outputs": [
    {
     "name": "stderr",
     "output_type": "stream",
     "text": [
      "WARNING: [generic] Falling back on generic information extractor\n"
     ]
    },
    {
     "name": "stdout",
     "output_type": "stream",
     "text": [
      "processing episode : s10e40\n",
      "episode created in db with id : {22}\n",
      "episode id in db : 22\n",
      "start transcription of episode with filename: ./files_to_transcribe/s10e40.mp3\n",
      "starting transcription...\n"
     ]
    },
    {
     "name": "stderr",
     "output_type": "stream",
     "text": [
      "Progress:   0%\n",
      "Progress:   0%\n",
      "Progress:   1%\n",
      "Progress:   1%\n",
      "Progress:   2%\n",
      "Progress:   3%\n",
      "Progress:   3%\n",
      "Progress:   4%\n",
      "Progress:   4%\n",
      "Progress:   5%\n",
      "Progress:   6%\n",
      "Progress:   6%\n",
      "Progress:   7%\n",
      "Progress:   8%\n",
      "Progress:   8%\n",
      "Progress:   9%\n",
      "Progress:   9%\n",
      "Progress:  10%\n",
      "Progress:  11%\n",
      "Progress:  11%\n",
      "Progress:  12%\n",
      "Progress:  13%\n",
      "Progress:  13%\n",
      "Progress:  14%\n",
      "Progress:  14%\n",
      "Progress:  15%\n",
      "Progress:  16%\n",
      "Progress:  16%\n",
      "Progress:  17%\n",
      "Progress:  18%\n",
      "Progress:  18%\n",
      "Progress:  19%\n",
      "Progress:  19%\n",
      "Progress:  20%\n",
      "Progress:  21%\n",
      "Progress:  21%\n",
      "Progress:  22%\n",
      "Progress:  23%\n",
      "Progress:  23%\n",
      "Progress:  24%\n",
      "Progress:  24%\n",
      "Progress:  25%\n",
      "Progress:  26%\n",
      "Progress:  26%\n",
      "Progress:  27%\n",
      "Progress:  28%\n",
      "Progress:  28%\n",
      "Progress:  29%\n",
      "Progress:  30%\n",
      "Progress:  30%\n",
      "Progress:  31%\n",
      "Progress:  31%\n",
      "Progress:  32%\n",
      "Progress:  33%\n",
      "Progress:  33%\n",
      "Progress:  34%\n",
      "Progress:  35%\n",
      "Progress:  35%\n",
      "Progress:  36%\n",
      "Progress:  36%\n",
      "Progress:  37%\n",
      "Progress:  38%\n",
      "Progress:  38%\n",
      "Progress:  39%\n",
      "Progress:  40%\n",
      "Progress:  40%\n",
      "Progress:  41%\n",
      "Progress:  41%\n",
      "Progress:  42%\n",
      "Progress:  43%\n",
      "Progress:  43%\n",
      "Progress:  44%\n",
      "Progress:  45%\n",
      "Progress:  45%\n",
      "Progress:  46%\n",
      "Progress:  46%\n",
      "Progress:  47%\n",
      "Progress:  48%\n",
      "Progress:  48%\n",
      "Progress:  49%\n",
      "Progress:  50%\n",
      "Progress:  50%\n",
      "Progress:  51%\n",
      "Progress:  51%\n",
      "Progress:  52%\n",
      "Progress:  53%\n",
      "Progress:  53%\n",
      "Progress:  54%\n",
      "Progress:  55%\n",
      "Progress:  55%\n",
      "Progress:  56%\n",
      "Progress:  56%\n",
      "Progress:  57%\n",
      "Progress:  58%\n",
      "Progress:  58%\n",
      "Progress:  59%\n",
      "Progress:  60%\n",
      "Progress:  60%\n",
      "Progress:  61%\n",
      "Progress:  61%\n",
      "Progress:  62%\n",
      "Progress:  63%\n",
      "Progress:  63%\n",
      "Progress:  64%\n",
      "Progress:  65%\n",
      "Progress:  65%\n",
      "Progress:  66%\n",
      "Progress:  66%\n",
      "Progress:  67%\n",
      "Progress:  68%\n",
      "Progress:  68%\n",
      "Progress:  69%\n",
      "Progress:  70%\n",
      "Progress:  70%\n",
      "Progress:  71%\n",
      "Progress:  71%\n",
      "Progress:  72%\n",
      "Progress:  73%\n",
      "Progress:  73%\n",
      "Progress:  74%\n",
      "Progress:  75%\n",
      "Progress:  75%\n",
      "Progress:  76%\n",
      "Progress:  76%\n",
      "Progress:  77%\n",
      "Progress:  78%\n",
      "Progress:  78%\n",
      "Progress:  79%\n",
      "Progress:  80%\n",
      "Progress:  80%\n",
      "Progress:  81%\n",
      "Progress:  81%\n",
      "Progress:  82%\n",
      "Progress:  83%\n",
      "Progress:  83%\n",
      "Progress:  84%\n",
      "Progress:  85%\n",
      "Progress:  85%\n",
      "Progress:  86%\n",
      "Progress:  86%\n",
      "Progress:  87%\n",
      "Progress:  88%\n",
      "Progress:  88%\n",
      "Progress:  89%\n",
      "Progress:  90%\n",
      "Progress:  90%\n",
      "Progress:  91%\n",
      "Progress:  91%\n",
      "Progress:  92%\n",
      "Progress:  93%\n",
      "Progress:  93%\n",
      "Progress:  94%\n",
      "Progress:  95%\n",
      "Progress:  95%\n",
      "Progress:  96%\n",
      "Progress:  96%\n",
      "Progress:  97%\n",
      "Progress:  98%\n",
      "Progress:  98%\n",
      "Progress:  99%\n"
     ]
    },
    {
     "name": "stdout",
     "output_type": "stream",
     "text": [
      "end transcription [t0=0, t1=332, text=The corruption of James Patterson and Michael Christian, probability=nan, t0=332, t1=472, text=will be the first to get back., probability=nan, t0=472, t1=768, text=The only way to get to the corruption is to get to the corruption., probability=nan, t0=768, t1=1076, text=The corruption of John McGregor will be the first to get to the corruption, probability=nan, t0=1076, t1=1300, text=and the first to get to the corruption., probability=nan, t0=1300, t1=1452, text=The corruption of James, probability=nan, t0=1452, t1=1700, text=will be the first to get to the corruption., probability=nan, t0=1700, t1=2080, text=The corruption of James and the other two of James' citizens will be the first to get to the corruption., probability=nan, t0=2080, t1=2300, text=The corruption of James' citizens will be the first to get to the corruption., probability=nan, t0=2300, t1=2600, text=The corruption of James' citizens will be the first to get to the corruption., probability=nan, t0=2600, t1=2900, text=The corruption of James' citizens will be the first to get to the corruption., probability=nan, t0=2900, t1=3300, text=The corruption of James is the first to get to the corruption., probability=nan, t0=3300, t1=3700, text=The corruption of James' citizens will be the first to get to the corruption., probability=nan, t0=3700, t1=4000, text=The corruption of James' citizens will be the first to get to the corruption., probability=nan, t0=4000, t1=4500, text=The corruption of James' citizens will be the first to get to the corruption., probability=nan, t0=4500, t1=4900, text=The corruption of James' citizens will be the first to get to the corruption., probability=nan, t0=4900, t1=5300, text=The corruption of James' citizens will be the first to get to the corruption., probability=nan, t0=5300, t1=5800, text=The corruption of James' citizens will be the first to get to the corruption., probability=nan, t0=5800, t1=6500, text=The corruption of James' citizens will be the first to get to the corruption., probability=nan, t0=6500, t1=7100, text=The corruption of James' citizens will be the first to get to the corruption., probability=nan, t0=7100, t1=7800, text=The corruption of James' citizens will be the first to get to the corruption., probability=nan, t0=7800, t1=8100, text=The corruption of James' citizens will be the first to get to the corruption., probability=nan, t0=8100, t1=8600, text=The corruption of James' citizens will be the first to get to the corruption., probability=nan, t0=8600, t1=9200, text=The corruption of James' citizens will be the first to get to the corruption., probability=nan, t0=9200, t1=9700, text=The corruption of James' citizens will be the first to get to the corruption., probability=nan, t0=9700, t1=10300, text=The corruption of James' citizens will be the first to get to the corruption., probability=nan, t0=10300, t1=10700, text=The corruption of James' citizens will be the first to get to the corruption., probability=nan, t0=10700, t1=11200, text=The corruption of James' citizens will be the first to get to the corruption., probability=nan, t0=11200, t1=11800, text=The corruption of James' citizens will be the first to get to the corruption., probability=nan, t0=11800, t1=12200, text=The corruption of James' citizens will be the first to get to the corruption., probability=nan, t0=12200, t1=12700, text=The corruption of James' citizens will be the first to get to the corruption., probability=nan, t0=12700, t1=13400, text=The corruption of James' citizens will be the first to get to the corruption., probability=nan, t0=13400, t1=14100, text=The corruption of James' citizens will be the first to get to the corruption., probability=nan, t0=14100, t1=14700, text=The corruption of James' citizens will be the first to get to the corruption., probability=nan, t0=14700, t1=15200, text=The corruption of James' citizens will be the first to get to the corruption., probability=nan, t0=15200, t1=16100, text=The corruption of James' citizens will be the first to get to the corruption., probability=nan, t0=16100, t1=16800, text=The corruption of James' citizens will be the first to get to the corruption., probability=nan, t0=16800, t1=17300, text=The corruption of James' citizens will be the first to get to the corruption., probability=nan, t0=17300, t1=17800, text=The corruption of James' citizens will be the first to get to the corruption., probability=nan, t0=17800, t1=18300, text=The corruption of James' citizens will be the first to get to the corruption., probability=nan, t0=18300, t1=18800, text=The corruption of James' citizens will be the first to get to the corruption., probability=nan, t0=18800, t1=19500, text=The corruption of James' citizens will be the first to get to the corruption., probability=nan, t0=19500, t1=20000, text=The corruption of James' citizens will be the first to get to the corruption., probability=nan, t0=20000, t1=20500, text=The corruption of James' citizens will be the first to get to the corruption., probability=nan, t0=20500, t1=21000, text=The corruption of James' citizens will be the first to get to the corruption., probability=nan, t0=21000, t1=21600, text=The corruption of James' citizens will be the first to get to the corruption., probability=nan, t0=21600, t1=21900, text=Thank you very much., probability=nan, t0=21900, t1=22000, text=Thank you., probability=nan, t0=22000, t1=22100, text=Thank you., probability=nan, t0=22100, t1=22200, text=Thank you., probability=nan, t0=22200, t1=22500, text=Thank you., probability=nan, t0=22500, t1=22800, text=I am very happy to be here., probability=nan, t0=22800, t1=23100, text=I am very happy to be here., probability=nan, t0=23100, t1=23300, text=I am very happy to be here., probability=nan, t0=23300, t1=23600, text=I am very happy to be here., probability=nan, t0=23600, t1=23900, text=I am very happy to be here., probability=nan, t0=23900, t1=24100, text=I am very happy to be here., probability=nan, t0=24100, t1=24300, text=I am very happy to be here., probability=nan, t0=24300, t1=24500, text=I am very happy to be here., probability=nan, t0=24500, t1=24700, text=I am very happy to be here., probability=nan, t0=24700, t1=24900, text=I am very happy to be here., probability=nan, t0=24900, t1=25100, text=I am very happy to be here., probability=nan, t0=25100, t1=25400, text=I am very happy to be here., probability=nan, t0=25400, t1=25600, text=I am very happy to be here., probability=nan, t0=25600, t1=25800, text=I am very happy to be here., probability=nan, t0=25800, t1=26000, text=I am very happy to be here., probability=nan, t0=26000, t1=26200, text=I am very happy to be here., probability=nan, t0=26200, t1=26500, text=I am very happy to be here., probability=nan, t0=26500, t1=26600, text=I am very happy to be here., probability=nan, t0=26600, t1=26700, text=I am very happy to be here., probability=nan, t0=26700, t1=26900, text=I am very happy to be here., probability=nan, t0=26900, t1=27200, text=I am very happy to be here., probability=nan, t0=27200, t1=27400, text=I am very happy to be here., probability=nan, t0=27400, t1=27600, text=I am very happy to be here., probability=nan, t0=27600, t1=27800, text=I am very happy to be here., probability=nan, t0=27800, t1=28100, text=I am very happy to be here., probability=nan, t0=28100, t1=28300, text=I am very happy to be here., probability=nan, t0=28300, t1=28500, text=I am very happy to be here., probability=nan, t0=28500, t1=28800, text=I am very happy to be here., probability=nan, t0=28800, t1=29000, text=I am very happy to be here., probability=nan, t0=29000, t1=29200, text=I am very happy to be here., probability=nan, t0=29200, t1=29400, text=I am very happy to be here., probability=nan, t0=29400, t1=29500, text=I am very happy to be here., probability=nan, t0=29500, t1=29700, text=I am very happy to be here., probability=nan, t0=29700, t1=29900, text=I am very happy to be here., probability=nan, t0=29900, t1=30100, text=I am very happy to be here., probability=nan, t0=30100, t1=30300, text=I am very happy to be here., probability=nan, t0=30300, t1=30500, text=I am very happy to be here., probability=nan, t0=30500, t1=30600, text=I am very happy to be here., probability=nan, t0=30600, t1=30800, text=I am very happy to be here., probability=nan, t0=30800, t1=31000, text=I am very happy to be here., probability=nan, t0=31000, t1=31200, text=I am very happy to be here., probability=nan, t0=31200, t1=31400, text=I am very happy to be here., probability=nan, t0=31400, t1=31600, text=I am very happy to be here., probability=nan, t0=31600, t1=31800, text=I am very happy to be here., probability=nan, t0=31800, t1=32000, text=I am very happy to be here., probability=nan, t0=32000, t1=32200, text=I am very happy to be here., probability=nan, t0=32200, t1=32400, text=I am very happy to be here., probability=nan, t0=32400, t1=32600, text=I am very happy to be here., probability=nan, t0=32600, t1=32800, text=I am very happy to be here., probability=nan, t0=32800, t1=33000, text=I am very happy to be here., probability=nan, t0=33000, t1=33200, text=I am very happy to be here., probability=nan, t0=33200, t1=33400, text=I am very happy to be here., probability=nan, t0=33400, t1=33500, text=I am very happy to be here., probability=nan, t0=33500, t1=33700, text=I am very happy to be here., probability=nan, t0=33700, t1=33900, text=I am very happy to be here., probability=nan, t0=33900, t1=34100, text=I am very happy to be here., probability=nan, t0=34100, t1=34300, text=I am very happy to be here., probability=nan, t0=34300, t1=34500, text=I am very happy to be here., probability=nan, t0=34500, t1=34700, text=I am very happy to be here., probability=nan, t0=34700, t1=34900, text=I am very happy to be here., probability=nan, t0=34900, t1=35100, text=I am very happy to be here., probability=nan, t0=35100, t1=35300, text=I am very happy to be here., probability=nan, t0=35300, t1=35500, text=I am very happy to be here., probability=nan, t0=35500, t1=35700, text=I am very happy to be here., probability=nan, t0=35700, t1=35900, text=I am very happy to be here., probability=nan, t0=35900, t1=36100, text=I am very happy to be here., probability=nan, t0=36100, t1=36300, text=I am very happy to be here., probability=nan, t0=36300, t1=36500, text=I am very happy to be here., probability=nan, t0=36500, t1=36700, text=I am very happy to be here., probability=nan, t0=36700, t1=36900, text=I am very happy to be here., probability=nan, t0=36900, t1=37100, text=I am very happy to be here., probability=nan, t0=37100, t1=37300, text=I am very happy to be here., probability=nan, t0=37300, t1=37500, text=I am very happy to be here., probability=nan, t0=37500, t1=37700, text=I am very happy to be here., probability=nan, t0=37700, t1=37900, text=I am very happy to be here., probability=nan, t0=37900, t1=38100, text=I am very happy to be here., probability=nan, t0=38100, t1=38300, text=I am very happy to be here., probability=nan, t0=38300, t1=38500, text=I am very happy to be here., probability=nan, t0=38500, t1=38700, text=I am very happy to be here., probability=nan, t0=38700, t1=38900, text=I am very happy to be here., probability=nan, t0=38900, t1=39100, text=I am very happy to be here., probability=nan, t0=39100, t1=39200, text=I am very happy to be here., probability=nan, t0=39200, t1=39400, text=I am very happy to be here., probability=nan, t0=39400, t1=39600, text=I am very happy to be here., probability=nan, t0=39600, t1=39800, text=I am very happy to be here., probability=nan, t0=39800, t1=40000, text=I am very happy to be here., probability=nan, t0=40000, t1=40200, text=I am very happy to be here., probability=nan, t0=40200, t1=40400, text=I am very happy to be here., probability=nan, t0=40400, t1=40600, text=I am very happy to be here., probability=nan, t0=40600, t1=40800, text=I am very happy to be here., probability=nan, t0=40800, t1=41000, text=I am very happy to be here., probability=nan, t0=41000, t1=41200, text=I am very happy to be here., probability=nan, t0=41200, t1=41400, text=I am very happy to be here., probability=nan, t0=41400, t1=41600, text=I am very happy to be here., probability=nan, t0=41600, t1=41800, text=I am very happy to be here., probability=nan, t0=41800, t1=42000, text=I am very happy to be here., probability=nan, t0=42000, t1=42200, text=I am very happy to be here., probability=nan, t0=42200, t1=42400, text=I am very happy to be here., probability=nan, t0=42400, t1=42600, text=I am very happy to be here., probability=nan, t0=42600, t1=42800, text=I am very happy to be here., probability=nan, t0=42800, t1=43000, text=I am very happy to be here., probability=nan, t0=43000, t1=43200, text=I am very happy to be here., probability=nan, t0=43200, t1=43400, text=I am very happy to be here., probability=nan, t0=43400, t1=43600, text=I am very happy to be here., probability=nan, t0=43600, t1=43800, text=I am very happy to be here., probability=nan, t0=43800, t1=44000, text=I am very happy to be here., probability=nan, t0=44000, t1=44200, text=I am very happy to be here., probability=nan, t0=44200, t1=44400, text=I am very happy to be here., probability=nan, t0=44400, t1=44600, text=I am very happy to be here., probability=nan, t0=44600, t1=44800, text=I am very happy to be here., probability=nan, t0=44800, t1=45000, text=I am very happy to be here., probability=nan, t0=45000, t1=45200, text=I am very happy to be here., probability=nan, t0=45200, t1=45400, text=I am very happy to be here., probability=nan, t0=45400, t1=45600, text=I am very happy to be here., probability=nan, t0=45600, t1=45800, text=I am very happy to be here., probability=nan, t0=45800, t1=46000, text=I am very happy to be here., probability=nan, t0=46000, t1=46200, text=I am very happy to be here., probability=nan, t0=46200, t1=46400, text=I am very happy to be here., probability=nan, t0=46400, t1=46600, text=I am very happy to be here., probability=nan, t0=46600, t1=46800, text=I am very happy to be here., probability=nan, t0=46800, t1=47000, text=I am very happy to be here., probability=nan, t0=47000, t1=47200, text=I am very happy to be here., probability=nan, t0=47200, t1=47400, text=I am very happy to be here., probability=nan, t0=47400, t1=47600, text=I am very happy to be here., probability=nan, t0=47600, t1=47800, text=I am very happy to be here., probability=nan, t0=47800, t1=48000, text=I am very happy to be here., probability=nan, t0=48000, t1=48200, text=I am very happy to be here., probability=nan, t0=48200, t1=48400, text=I am very happy to be here., probability=nan, t0=48400, t1=48600, text=I am very happy to be here., probability=nan, t0=48600, t1=48800, text=I am very happy to be here., probability=nan, t0=48800, t1=49000, text=I am very happy to be here., probability=nan, t0=49000, t1=49200, text=I am very happy to be here., probability=nan, t0=49200, t1=49400, text=I am very happy to be here., probability=nan, t0=49400, t1=49600, text=I am very happy to be here., probability=nan, t0=49600, t1=49800, text=I am very happy to be here., probability=nan, t0=49800, t1=50000, text=I am very happy to be here., probability=nan, t0=50000, t1=50200, text=I am very happy to be here., probability=nan, t0=50200, t1=50400, text=I am very happy to be here., probability=nan, t0=50400, t1=50600, text=I am very happy to be here., probability=nan, t0=50600, t1=50800, text=I am very happy to be here., probability=nan, t0=50800, t1=51000, text=I am very happy to be here., probability=nan, t0=51000, t1=51200, text=I am very happy to be here., probability=nan, t0=51200, t1=51400, text=I am very happy to be here., probability=nan, t0=51400, t1=51600, text=I am very happy to be here., probability=nan, t0=51600, t1=51800, text=I am very happy to be here., probability=nan, t0=51800, t1=52000, text=I am very happy to be here., probability=nan, t0=52000, t1=52200, text=I am very happy to be here., probability=nan, t0=52200, t1=52400, text=I am very happy to be here., probability=nan, t0=52400, t1=52600, text=I am very happy to be here., probability=nan, t0=52600, t1=52800, text=I am very happy to be here., probability=nan, t0=52800, t1=53000, text=I am very happy to be here., probability=nan, t0=53000, t1=53200, text=I am very happy to be here., probability=nan, t0=53200, t1=53400, text=I am very happy to be here., probability=nan, t0=53400, t1=53600, text=I am very happy to be here., probability=nan, t0=53600, t1=53800, text=I am very happy to be here., probability=nan, t0=53800, t1=54000, text=I am very happy to be here., probability=nan, t0=54000, t1=54200, text=I am very happy to be here., probability=nan, t0=54200, t1=54400, text=I am very happy to be here., probability=nan, t0=54400, t1=54600, text=I am very happy to be here., probability=nan, t0=54600, t1=54800, text=I am very happy to be here., probability=nan, t0=54800, t1=55000, text=I am very happy to be here., probability=nan, t0=55000, t1=55200, text=I am very happy to be here., probability=nan, t0=55200, t1=55400, text=I am very happy to be here., probability=nan, t0=55400, t1=55600, text=I am very happy to be here., probability=nan, t0=55600, t1=55800, text=I am very happy to be here., probability=nan, t0=55800, t1=56000, text=I am very happy to be here., probability=nan, t0=56000, t1=56200, text=I am very happy to be here., probability=nan, t0=56200, t1=56400, text=I am very happy to be here., probability=nan, t0=56400, t1=56600, text=I am very happy to be here., probability=nan, t0=56600, t1=56800, text=I am very happy to be here., probability=nan, t0=56800, t1=57000, text=I am very happy to be here., probability=nan, t0=57000, t1=57200, text=I am very happy to be here., probability=nan, t0=57200, t1=57400, text=I am very happy to be here., probability=nan, t0=57400, t1=57600, text=I am very happy to be here., probability=nan, t0=57600, t1=57800, text=I am very happy to be here., probability=nan, t0=57800, t1=58000, text=I am very happy to be here., probability=nan, t0=58000, t1=58200, text=I am very happy to be here., probability=nan, t0=58200, t1=58400, text=I am very happy to be here., probability=nan, t0=58400, t1=58600, text=I am very happy to be here., probability=nan, t0=58600, t1=58800, text=I am very happy to be here., probability=nan, t0=58800, t1=59000, text=I am very happy to be here., probability=nan, t0=59000, t1=59200, text=I am very happy to be here., probability=nan, t0=59200, t1=59400, text=I am very happy to be here., probability=nan, t0=59400, t1=59600, text=I am very happy to be here., probability=nan, t0=59600, t1=59800, text=I am very happy to be here., probability=nan, t0=59800, t1=60000, text=I am very happy to be here., probability=nan, t0=60000, t1=60200, text=I am very happy to be here., probability=nan, t0=60200, t1=60400, text=I am very happy to be here., probability=nan, t0=60400, t1=60600, text=I am very happy to be here., probability=nan, t0=60600, t1=60800, text=I am very happy to be here., probability=nan, t0=60800, t1=61000, text=I am very happy to be here., probability=nan, t0=61000, t1=61200, text=I am very happy to be here., probability=nan, t0=61200, t1=61400, text=I am very happy to be here., probability=nan, t0=61400, t1=61600, text=I am very happy to be here., probability=nan, t0=61600, t1=61800, text=I am very happy to be here., probability=nan, t0=61800, t1=62000, text=I am very happy to be here., probability=nan, t0=62000, t1=62200, text=I am very happy to be here., probability=nan, t0=62200, t1=62400, text=I am very happy to be here., probability=nan, t0=62400, t1=62600, text=I am very happy to be here., probability=nan, t0=62600, t1=62800, text=I am very happy to be here., probability=nan, t0=62800, t1=63000, text=I am very happy to be here., probability=nan, t0=63000, t1=63200, text=I am very happy to be here., probability=nan, t0=63200, t1=63400, text=I am very happy to be here., probability=nan, t0=63400, t1=63600, text=I am very happy to be here., probability=nan, t0=63600, t1=63800, text=I am very happy to be here., probability=nan, t0=63800, t1=64000, text=I am very happy to be here., probability=nan, t0=64000, t1=64200, text=I am very happy to be here., probability=nan, t0=64200, t1=64400, text=I am very happy to be here., probability=nan, t0=64400, t1=64600, text=I am very happy to be here., probability=nan, t0=64600, t1=64800, text=I am very happy to be here., probability=nan, t0=64800, t1=65000, text=I am very happy to be here., probability=nan, t0=65000, t1=65200, text=I am very happy to be here., probability=nan, t0=65200, t1=65400, text=I am very happy to be here., probability=nan, t0=65400, t1=65600, text=I am very happy to be here., probability=nan, t0=65600, t1=65800, text=I am very happy to be here., probability=nan, t0=65800, t1=66000, text=I am very happy to be here., probability=nan, t0=66000, t1=66200, text=I am very happy to be here., probability=nan, t0=66200, t1=66400, text=I am very happy to be here., probability=nan, t0=66400, t1=66600, text=I am very happy to be here., probability=nan, t0=66600, t1=66800, text=I am very happy to be here., probability=nan, t0=66800, t1=67000, text=I am very happy to be here., probability=nan, t0=67000, t1=67200, text=I am very happy to be here., probability=nan, t0=67200, t1=67400, text=I am very happy to be here., probability=nan, t0=67400, t1=67600, text=I am very happy to be here., probability=nan, t0=67600, t1=67800, text=I am very happy to be here., probability=nan, t0=67800, t1=68000, text=I am very happy to be here., probability=nan, t0=68000, t1=68200, text=I am very happy to be here., probability=nan, t0=68200, t1=68400, text=I am very happy to be here., probability=nan, t0=68400, t1=68600, text=I am very happy to be here., probability=nan, t0=68600, t1=68800, text=I am very happy to be here., probability=nan, t0=68800, t1=69000, text=I am very happy to be here., probability=nan, t0=69000, t1=69200, text=I am very happy to be here., probability=nan, t0=69200, t1=69400, text=I am very happy to be here., probability=nan, t0=69400, t1=69600, text=I am very happy to be here., probability=nan, t0=69600, t1=69800, text=I am very happy to be here., probability=nan, t0=69800, t1=70000, text=I am very happy to be here., probability=nan, t0=70000, t1=70200, text=I am very happy to be here., probability=nan, t0=70200, t1=70400, text=I am very happy to be here., probability=nan, t0=70400, t1=70600, text=I am very happy to be here., probability=nan, t0=70600, t1=70800, text=I am very happy to be here., probability=nan, t0=70800, t1=71000, text=I am very happy to be here., probability=nan, t0=71000, t1=71200, text=I am very happy to be here., probability=nan, t0=71200, t1=71400, text=I am very happy to be here., probability=nan, t0=71400, t1=71600, text=I am very happy to be here., probability=nan, t0=71600, t1=71800, text=I am very happy to be here., probability=nan, t0=71800, t1=72000, text=I am very happy to be here., probability=nan, t0=72000, t1=72200, text=I am very happy to be here., probability=nan, t0=72200, t1=72400, text=I am very happy to be here., probability=nan, t0=72400, t1=72600, text=I am very happy to be here., probability=nan, t0=72600, t1=72800, text=I am very happy to be here., probability=nan, t0=72800, t1=73000, text=I am very happy to be here., probability=nan, t0=73000, t1=73200, text=I am very happy to be here., probability=nan, t0=73200, t1=73400, text=I am very happy to be here., probability=nan, t0=73400, t1=73600, text=I am very happy to be here., probability=nan, t0=73600, t1=73800, text=I am very happy to be here., probability=nan, t0=73800, t1=74000, text=I am very happy to be here., probability=nan, t0=74000, t1=74200, text=I am very happy to be here., probability=nan, t0=74200, t1=74400, text=I am very happy to be here., probability=nan, t0=74400, t1=74600, text=I am very happy to be here., probability=nan, t0=74600, t1=74800, text=I am very happy to be here., probability=nan, t0=74800, t1=75000, text=I am very happy to be here., probability=nan, t0=75000, t1=75200, text=I am very happy to be here., probability=nan, t0=75200, t1=75400, text=I am very happy to be here., probability=nan, t0=75400, t1=75600, text=I am very happy to be here., probability=nan, t0=75600, t1=75800, text=I am very happy to be here., probability=nan, t0=75800, t1=76000, text=I am very happy to be here., probability=nan, t0=76000, t1=76200, text=I am very happy to be here., probability=nan, t0=76200, t1=76400, text=I am very happy to be here., probability=nan, t0=76400, t1=76600, text=I am very happy to be here., probability=nan, t0=76600, t1=76800, text=I am very happy to be here., probability=nan, t0=76800, t1=77000, text=I am very happy to be here., probability=nan, t0=77000, t1=77200, text=I am very happy to be here., probability=nan, t0=77200, t1=77400, text=I am very happy to be here., probability=nan, t0=77400, t1=77600, text=I am very happy to be here., probability=nan, t0=77600, t1=77800, text=I am very happy to be here., probability=nan, t0=77800, t1=78000, text=I am very happy to be here., probability=nan, t0=78000, t1=78200, text=I am very happy to be here., probability=nan, t0=78200, t1=78400, text=I am very happy to be here., probability=nan, t0=78400, t1=78600, text=I am very happy to be here., probability=nan, t0=78600, t1=78800, text=I am very happy to be here., probability=nan, t0=78800, t1=79000, text=I am very happy to be here., probability=nan, t0=79000, t1=79200, text=I am very happy to be here., probability=nan, t0=79200, t1=79400, text=I am very happy to be here., probability=nan, t0=79400, t1=79600, text=I am very happy to be here., probability=nan, t0=79600, t1=79800, text=I am very happy to be here., probability=nan, t0=79800, t1=80000, text=I am very happy to be here., probability=nan, t0=80000, t1=80200, text=I am very happy to be here., probability=nan, t0=80200, t1=80400, text=I am very happy to be here., probability=nan, t0=80400, t1=80600, text=I am very happy to be here., probability=nan, t0=80600, t1=80800, text=I am very happy to be here., probability=nan, t0=80800, t1=81000, text=I am very happy to be here., probability=nan, t0=81000, t1=81200, text=I am very happy to be here., probability=nan, t0=81200, t1=81400, text=I am very happy to be here., probability=nan, t0=81400, t1=81600, text=I am very happy to be here., probability=nan, t0=81600, t1=81800, text=I am very happy to be here., probability=nan, t0=81800, t1=82000, text=I am very happy to be here., probability=nan, t0=82000, t1=82200, text=I am very happy to be here., probability=nan, t0=82200, t1=82400, text=I am very happy to be here., probability=nan, t0=82400, t1=82600, text=I am very happy to be here., probability=nan, t0=82600, t1=82800, text=I am very happy to be here., probability=nan, t0=82800, t1=83000, text=I am very happy to be here., probability=nan, t0=83000, t1=83200, text=I am very happy to be here., probability=nan, t0=83200, t1=83400, text=I am very happy to be here., probability=nan, t0=83400, t1=83600, text=I am very happy to be here., probability=nan, t0=83600, t1=83800, text=I am very happy to be here., probability=nan, t0=83800, t1=84000, text=I am very happy to be here., probability=nan, t0=84000, t1=84200, text=I am very happy to be here., probability=nan, t0=84200, t1=84400, text=I am very happy to be here., probability=nan, t0=84400, t1=84600, text=I am very happy to be here., probability=nan, t0=84600, t1=84800, text=I am very happy to be here., probability=nan, t0=84800, t1=85000, text=I am very happy to be here., probability=nan, t0=85000, t1=85200, text=I am very happy to be here., probability=nan, t0=85200, t1=85400, text=I am very happy to be here., probability=nan, t0=85400, t1=85600, text=I am very happy to be here., probability=nan, t0=85600, t1=85800, text=I am very happy to be here., probability=nan, t0=85800, t1=86000, text=I am very happy to be here., probability=nan, t0=86000, t1=86200, text=I am very happy to be here., probability=nan, t0=86200, t1=86400, text=I am very happy to be here., probability=nan, t0=86400, t1=86600, text=I am very happy to be here., probability=nan, t0=86600, t1=86800, text=I am very happy to be here., probability=nan, t0=86800, t1=87000, text=I am very happy to be here., probability=nan, t0=87000, t1=87200, text=I am very happy to be here., probability=nan, t0=87200, t1=87400, text=I am very happy to be here., probability=nan, t0=87400, t1=87600, text=I am very happy to be here., probability=nan, t0=87600, t1=87800, text=I am very happy to be here., probability=nan, t0=87800, t1=88000, text=I am very happy to be here., probability=nan, t0=88000, t1=88200, text=I am very happy to be here., probability=nan, t0=88200, t1=88400, text=I am very happy to be here., probability=nan, t0=88400, t1=88600, text=I am very happy to be here., probability=nan, t0=88600, t1=88800, text=I am very happy to be here., probability=nan, t0=88800, t1=89000, text=I am very happy to be here., probability=nan, t0=89000, t1=89200, text=I am very happy to be here., probability=nan, t0=89200, t1=89400, text=I am very happy to be here., probability=nan, t0=89400, t1=89600, text=I am very happy to be here., probability=nan, t0=89600, t1=89800, text=I am very happy to be here., probability=nan, t0=89800, t1=90000, text=I am very happy to be here., probability=nan, t0=90000, t1=90200, text=I am very happy to be here., probability=nan, t0=90200, t1=90400, text=I am very happy to be here., probability=nan, t0=90400, t1=90600, text=I am very happy to be here., probability=nan, t0=90600, t1=90800, text=I am very happy to be here., probability=nan, t0=90800, t1=91000, text=I am very happy to be here., probability=nan, t0=91000, t1=91200, text=I am very happy to be here., probability=nan, t0=91200, t1=91400, text=I am very happy to be here., probability=nan, t0=91400, t1=91600, text=I am very happy to be here., probability=nan, t0=91600, t1=91800, text=I am very happy to be here., probability=nan, t0=91800, t1=92000, text=I am very happy to be here., probability=nan, t0=92000, t1=92200, text=I am very happy to be here., probability=nan, t0=92200, t1=92400, text=I am very happy to be here., probability=nan, t0=92400, t1=92600, text=I am very happy to be here., probability=nan, t0=92600, t1=92800, text=I am very happy to be here., probability=nan, t0=92800, t1=93000, text=I am very happy to be here., probability=nan, t0=93000, t1=93200, text=I am very happy to be here., probability=nan, t0=93200, t1=93400, text=I am very happy to be here., probability=nan, t0=93400, t1=93600, text=I am very happy to be here., probability=nan, t0=93600, t1=93800, text=I am very happy to be here., probability=nan, t0=93800, t1=94000, text=I am very happy to be here., probability=nan, t0=95400, t1=95600, text=I am very happy to be here., probability=nan, t0=95600, t1=95800, text=I am very happy to be here., probability=nan, t0=95800, t1=96000, text=I am very happy to be here., probability=nan, t0=96000, t1=96200, text=I am very happy to be here., probability=nan, t0=96200, t1=96400, text=I am very happy to be here., probability=nan, t0=96400, t1=96600, text=I am very happy to be here., probability=nan, t0=96600, t1=96800, text=I am very happy to be here., probability=nan, t0=96800, t1=97000, text=I am very happy to be here., probability=nan, t0=97000, t1=97200, text=I am very happy to be here., probability=nan, t0=97200, t1=97400, text=I am very happy to be here., probability=nan, t0=97400, t1=97600, text=I am very happy to be here., probability=nan, t0=97600, t1=97800, text=I am very happy to be here., probability=nan, t0=97800, t1=98000, text=I am very happy to be here., probability=nan, t0=98000, t1=98200, text=I am very happy to be here., probability=nan, t0=98200, t1=98400, text=I am very happy to be here., probability=nan, t0=98400, t1=98600, text=I am very happy to be here., probability=nan, t0=98600, t1=98800, text=I am very happy to be here., probability=nan, t0=98800, t1=99000, text=I am very happy to be here., probability=nan, t0=99000, t1=99200, text=I am very happy to be here., probability=nan, t0=99200, t1=99400, text=I am very happy to be here., probability=nan, t0=99400, t1=99800, text=I am very happy to be here., probability=nan, t0=99800, t1=100000, text=I am very happy to be here., probability=nan, t0=100000, t1=100200, text=I am very happy to be here., probability=nan, t0=100200, t1=100400, text=I am very happy to be here., probability=nan, t0=100400, t1=100600, text=I am very happy to be here., probability=nan, t0=100600, t1=100800, text=I am very happy to be here., probability=nan, t0=100800, t1=101000, text=I am very happy to be here., probability=nan, t0=101000, t1=101200, text=I am very happy to be here., probability=nan, t0=101200, t1=101400, text=I am very happy to be here., probability=nan, t0=101400, t1=101600, text=I am very happy to be here., probability=nan, t0=101600, t1=101800, text=I am very happy to be here., probability=nan, t0=101800, t1=102000, text=I am very happy to be here., probability=nan, t0=102000, t1=102200, text=I am very happy to be here., probability=nan, t0=102200, t1=102400, text=I am very happy to be here., probability=nan, t0=102400, t1=102600, text=I am very happy to be here., probability=nan, t0=102600, t1=102800, text=I am very happy to be here., probability=nan, t0=102800, t1=103000, text=I am very happy to be here., probability=nan, t0=103000, t1=103200, text=I am very happy to be here., probability=nan, t0=103200, t1=103400, text=I am very happy to be here., probability=nan, t0=103400, t1=103600, text=I am very happy to be here., probability=nan, t0=103600, t1=103800, text=I am very happy to be here., probability=nan, t0=103800, t1=104000, text=I am very happy to be here., probability=nan, t0=104000, t1=104200, text=I am very happy to be here., probability=nan, t0=104200, t1=104400, text=I am very happy to be here., probability=nan, t0=104400, t1=104600, text=I am very happy to be here., probability=nan, t0=104600, t1=104800, text=I am very happy to be here., probability=nan, t0=104800, t1=105000, text=I am very happy to be here., probability=nan, t0=105000, t1=105200, text=I am very happy to be here., probability=nan, t0=105200, t1=105400, text=I am very happy to be here., probability=nan, t0=105400, t1=105800, text=I am very happy to be here., probability=nan, t0=105800, t1=106000, text=I am very happy to be here., probability=nan, t0=106000, t1=106200, text=I am very happy to be here., probability=nan, t0=106200, t1=106400, text=I am very happy to be here., probability=nan, t0=106400, t1=106600, text=I am very happy to be here., probability=nan, t0=106600, t1=106800, text=I am very happy to be here., probability=nan, t0=106800, t1=107000, text=I am very happy to be here., probability=nan, t0=107000, t1=107200, text=I am very happy to be here., probability=nan, t0=107200, t1=107400, text=I am very happy to be here., probability=nan, t0=107400, t1=107600, text=I am very happy to be here., probability=nan, t0=107600, t1=107800, text=I am very happy to be here., probability=nan, t0=107800, t1=108000, text=I am very happy to be here., probability=nan, t0=108000, t1=108200, text=I am very happy to be here., probability=nan, t0=108200, t1=108400, text=I am very happy to be here., probability=nan, t0=108400, t1=108600, text=I am very happy to be here., probability=nan, t0=108600, t1=108800, text=I am very happy to be here., probability=nan, t0=108800, t1=109000, text=I am very happy to be here., probability=nan, t0=109000, t1=109200, text=I am very happy to be here., probability=nan, t0=109200, t1=109400, text=I am very happy to be here., probability=nan, t0=109400, t1=109600, text=I am very happy to be here., probability=nan, t0=109600, t1=109800, text=I am very happy to be here., probability=nan, t0=109800, t1=110000, text=I am very happy to be here., probability=nan, t0=110000, t1=110200, text=I am very happy to be here., probability=nan, t0=110200, t1=110400, text=I am very happy to be here., probability=nan, t0=110400, t1=110600, text=I am very happy to be here., probability=nan, t0=110600, t1=110800, text=I am very happy to be here., probability=nan, t0=110800, t1=111000, text=I am very happy to be here., probability=nan, t0=111000, t1=111200, text=I am very happy to be here., probability=nan, t0=111200, t1=111400, text=I am very happy to be here., probability=nan, t0=111400, t1=111600, text=I am very happy to be here., probability=nan, t0=111600, t1=111800, text=I am very happy to be here., probability=nan, t0=111800, t1=112000, text=I am very happy to be here., probability=nan, t0=112000, t1=112200, text=I am very happy to be here., probability=nan, t0=112200, t1=112400, text=I am very happy to be here., probability=nan, t0=112400, t1=112600, text=I am very happy to be here., probability=nan, t0=112600, t1=112800, text=I am very happy to be here., probability=nan, t0=112800, t1=113000, text=I am very happy to be here., probability=nan, t0=113000, t1=113200, text=I am very happy to be here., probability=nan, t0=113200, t1=113400, text=I am very happy to be here., probability=nan, t0=113400, t1=113600, text=I am very happy to be here., probability=nan, t0=113600, t1=113800, text=I am very happy to be here., probability=nan, t0=113800, t1=114000, text=I am very happy to be here., probability=nan, t0=114000, t1=114200, text=I am very happy to be here., probability=nan, t0=114200, t1=114400, text=I am very happy to be here., probability=nan, t0=114400, t1=114600, text=I am very happy to be here., probability=nan, t0=114600, t1=114800, text=I am very happy to be here., probability=nan, t0=114800, t1=115000, text=I am very happy to be here., probability=nan, t0=115000, t1=115200, text=I am very happy to be here., probability=nan, t0=115200, t1=115400, text=I am very happy to be here., probability=nan, t0=115400, t1=115600, text=I am very happy to be here., probability=nan, t0=115600, t1=115800, text=I am very happy to be here., probability=nan, t0=115800, t1=116000, text=I am very happy to be here., probability=nan, t0=116000, t1=116200, text=I am very happy to be here., probability=nan, t0=116200, t1=116400, text=I am very happy to be here., probability=nan, t0=116400, t1=116600, text=I am very happy to be here., probability=nan, t0=116600, t1=116800, text=I am very happy to be here., probability=nan, t0=116800, t1=117000, text=I am very happy to be here., probability=nan, t0=117000, t1=117200, text=I am very happy to be here., probability=nan, t0=117200, t1=117400, text=I am very happy to be here., probability=nan, t0=117400, t1=117600, text=I am very happy to be here., probability=nan, t0=117600, t1=117800, text=I am very happy to be here., probability=nan, t0=117800, t1=118000, text=I am very happy to be here., probability=nan, t0=118000, t1=118200, text=I am very happy to be here., probability=nan, t0=118200, t1=118400, text=I am very happy to be here., probability=nan, t0=118400, t1=118600, text=I am very happy to be here., probability=nan, t0=118600, t1=118800, text=I am very happy to be here., probability=nan, t0=118800, t1=119000, text=I am very happy to be here., probability=nan, t0=119000, t1=119200, text=I am very happy to be here., probability=nan, t0=119200, t1=119400, text=I am very happy to be here., probability=nan, t0=119400, t1=119600, text=I am very happy to be here., probability=nan, t0=119600, t1=119800, text=I am very happy to be here., probability=nan, t0=119800, t1=120000, text=I am very happy to be here., probability=nan, t0=120000, t1=120200, text=I am very happy to be here., probability=nan, t0=120200, t1=120400, text=I am very happy to be here., probability=nan, t0=120400, t1=120600, text=I am very happy to be here., probability=nan, t0=120600, t1=120800, text=I am very happy to be here., probability=nan, t0=120800, t1=121000, text=I am very happy to be here., probability=nan, t0=121000, t1=121200, text=I am very happy to be here., probability=nan, t0=121200, t1=121400, text=I am very happy to be here., probability=nan, t0=121400, t1=121600, text=I am very happy to be here., probability=nan, t0=121600, t1=121800, text=I am very happy to be here., probability=nan, t0=121800, t1=122000, text=I am very happy to be here., probability=nan, t0=122000, t1=122200, text=I am very happy to be here., probability=nan, t0=122200, t1=122400, text=I am very happy to be here., probability=nan, t0=122400, t1=122600, text=I am very happy to be here., probability=nan, t0=122600, t1=122800, text=I am very happy to be here., probability=nan, t0=122800, t1=123000, text=I am very happy to be here., probability=nan, t0=123000, t1=123200, text=I am very happy to be here., probability=nan, t0=123200, t1=123400, text=I am very happy to be here., probability=nan, t0=123400, t1=123600, text=I am very happy to be here., probability=nan, t0=123600, t1=123800, text=I am very happy to be here., probability=nan, t0=123800, t1=124000, text=I am very happy to be here., probability=nan, t0=124000, t1=124200, text=I am very happy to be here., probability=nan, t0=124200, t1=124400, text=I am very happy to be here., probability=nan, t0=124400, t1=124600, text=I am very happy to be here., probability=nan, t0=124600, t1=124800, text=I am very happy to be here., probability=nan, t0=124800, t1=125000, text=I am very happy to be here., probability=nan, t0=125000, t1=125200, text=I am very happy to be here., probability=nan, t0=125200, t1=125400, text=I am very happy to be here., probability=nan, t0=125400, t1=125600, text=I am very happy to be here., probability=nan, t0=125600, t1=125800, text=I am very happy to be here., probability=nan, t0=125800, t1=126000, text=I am very happy to be here., probability=nan, t0=126000, t1=126200, text=I am very happy to be here., probability=nan, t0=126200, t1=126300, text=I am very happy to be here., probability=nan, t0=126300, t1=126500, text=I am very happy to be here., probability=nan, t0=126500, t1=126700, text=I am very happy to be here., probability=nan, t0=126700, t1=126900, text=I am very happy to be here., probability=nan, t0=126900, t1=127100, text=I am very happy to be here., probability=nan, t0=127100, t1=127300, text=I am very happy to be here., probability=nan, t0=127300, t1=127500, text=I am very happy to be here., probability=nan, t0=127500, t1=127700, text=I am very happy to be here., probability=nan, t0=127700, t1=127900, text=I am very happy to be here., probability=nan, t0=127900, t1=128100, text=I am very happy to be here., probability=nan, t0=128100, t1=128300, text=I am very happy to be here., probability=nan, t0=128300, t1=128500, text=I am very happy to be here., probability=nan, t0=128500, t1=128700, text=I am very happy to be here., probability=nan, t0=128700, t1=128900, text=I am very happy to be here., probability=nan, t0=128900, t1=129100, text=I am very happy to be here., probability=nan, t0=129100, t1=129300, text=I am very happy to be here., probability=nan, t0=129300, t1=129500, text=I am very happy to be here., probability=nan, t0=129500, t1=129700, text=I am very happy to be here., probability=nan, t0=129700, t1=129900, text=I am very happy to be here., probability=nan, t0=129900, t1=130100, text=I am very happy to be here., probability=nan, t0=130100, t1=130300, text=I am very happy to be here., probability=nan, t0=130300, t1=130500, text=I am very happy to be here., probability=nan, t0=130500, t1=130700, text=I am very happy to be here., probability=nan, t0=130700, t1=130900, text=I am very happy to be here., probability=nan, t0=130900, t1=131100, text=I am very happy to be here., probability=nan, t0=131100, t1=131300, text=I am very happy to be here., probability=nan, t0=131300, t1=131500, text=I am very happy to be here., probability=nan, t0=131500, t1=131700, text=I am very happy to be here., probability=nan, t0=131700, t1=131900, text=I am very happy to be here., probability=nan, t0=131900, t1=132000, text=I am very happy to be here., probability=nan, t0=132000, t1=132200, text=I am very happy to be here., probability=nan, t0=132200, t1=132400, text=I am very happy to be here., probability=nan, t0=132400, t1=132600, text=I am very happy to be here., probability=nan, t0=132600, t1=132800, text=I am very happy to be here., probability=nan, t0=132800, t1=133000, text=I am very happy to be here., probability=nan, t0=133000, t1=133200, text=I am very happy to be here., probability=nan, t0=133200, t1=133400, text=I am very happy to be here., probability=nan, t0=133400, t1=133600, text=I am very happy to be here., probability=nan, t0=133600, t1=133800, text=I am very happy to be here., probability=nan, t0=133800, t1=134000, text=I am very happy to be here., probability=nan, t0=134000, t1=134200, text=I am very happy to be here., probability=nan, t0=134200, t1=134400, text=I am very happy to be here., probability=nan, t0=134400, t1=134600, text=I am very happy to be here., probability=nan, t0=134600, t1=134800, text=I am very happy to be here., probability=nan, t0=134800, t1=135000, text=I am very happy to be here., probability=nan, t0=135000, t1=135200, text=I am very happy to be here., probability=nan, t0=135200, t1=135400, text=I am very happy to be here., probability=nan, t0=135400, t1=135600, text=I am very happy to be here., probability=nan, t0=135600, t1=135800, text=I am very happy to be here., probability=nan, t0=135800, t1=136000, text=I am very happy to be here., probability=nan, t0=136000, t1=136200, text=I am very happy to be here., probability=nan, t0=136200, t1=136400, text=I am very happy to be here., probability=nan, t0=136400, t1=136600, text=I am very happy to be here., probability=nan, t0=136600, t1=136800, text=I am very happy to be here., probability=nan, t0=136800, t1=137000, text=I am very happy to be here., probability=nan, t0=137000, t1=137200, text=I am very happy to be here., probability=nan, t0=137200, t1=137400, text=I am very happy to be here., probability=nan, t0=137400, t1=137600, text=I am very happy to be here., probability=nan, t0=137600, t1=137800, text=I am very happy to be here., probability=nan, t0=137800, t1=138000, text=I am very happy to be here., probability=nan, t0=138000, t1=138200, text=I am very happy to be here., probability=nan, t0=138200, t1=138400, text=I am very happy to be here., probability=nan, t0=138400, t1=138600, text=I am very happy to be here., probability=nan, t0=138600, t1=138800, text=I am very happy to be here., probability=nan, t0=138800, t1=139000, text=I am very happy to be here., probability=nan, t0=139000, t1=139200, text=I am very happy to be here., probability=nan, t0=139200, t1=139400, text=I am very happy to be here., probability=nan, t0=139400, t1=139600, text=I am very happy to be here., probability=nan, t0=139600, t1=139800, text=I am very happy to be here., probability=nan, t0=139800, t1=140000, text=I am very happy to be here., probability=nan, t0=140000, t1=140200, text=I am very happy to be here., probability=nan, t0=140200, t1=140400, text=I am very happy to be here., probability=nan, t0=140400, t1=140600, text=I am very happy to be here., probability=nan, t0=140600, t1=140800, text=I am very happy to be here., probability=nan, t0=140800, t1=141000, text=I am very happy to be here., probability=nan, t0=141000, t1=141200, text=I am very happy to be here., probability=nan, t0=141200, t1=141400, text=I am very happy to be here., probability=nan, t0=141400, t1=141600, text=I am very happy to be here., probability=nan, t0=141600, t1=141800, text=I am very happy to be here., probability=nan, t0=141800, t1=142000, text=I am very happy to be here., probability=nan, t0=142000, t1=142200, text=I am very happy to be here., probability=nan, t0=142200, t1=142400, text=I am very happy to be here., probability=nan, t0=142400, t1=142600, text=I am very happy to be here., probability=nan, t0=142600, t1=142800, text=I am very happy to be here., probability=nan, t0=142800, t1=143000, text=I am very happy to be here., probability=nan, t0=143000, t1=143200, text=I am very happy to be here., probability=nan, t0=143200, t1=143400, text=I am very happy to be here., probability=nan, t0=143400, t1=143600, text=I am very happy to be here., probability=nan, t0=143600, t1=143800, text=I am very happy to be here., probability=nan, t0=143800, t1=144000, text=I am very happy to be here., probability=nan, t0=144000, t1=144200, text=I am very happy to be here., probability=nan, t0=144200, t1=144400, text=I am very happy to be here., probability=nan, t0=144400, t1=144600, text=I am very happy to be here., probability=nan, t0=144600, t1=144800, text=I am very happy to be here., probability=nan, t0=144800, t1=145000, text=I am very happy to be here., probability=nan, t0=145000, t1=145200, text=I am very happy to be here., probability=nan, t0=145200, t1=145400, text=I am very happy to be here., probability=nan, t0=145400, t1=145600, text=I am very happy to be here., probability=nan, t0=145600, t1=145800, text=I am very happy to be here., probability=nan, t0=145800, t1=146000, text=I am very happy to be here., probability=nan, t0=146000, t1=146200, text=I am very happy to be here., probability=nan, t0=146200, t1=146400, text=I am very happy to be here., probability=nan, t0=146400, t1=146600, text=I am very happy to be here., probability=nan, t0=146600, t1=146800, text=I am very happy to be here., probability=nan, t0=146800, t1=147000, text=I am very happy to be here., probability=nan, t0=147000, t1=147200, text=I am very happy to be here., probability=nan, t0=147200, t1=147400, text=I am very happy to be here., probability=nan, t0=147400, t1=147600, text=I am very happy to be here., probability=nan, t0=147600, t1=147800, text=I am very happy to be here., probability=nan, t0=147800, t1=148000, text=I am very happy to be here., probability=nan, t0=148000, t1=148200, text=I am very happy to be here., probability=nan, t0=148200, t1=148400, text=I am very happy to be here., probability=nan, t0=148400, t1=148600, text=I am very happy to be here., probability=nan, t0=148600, t1=148800, text=I am very happy to be here., probability=nan, t0=148800, t1=149000, text=I am very happy to be here., probability=nan, t0=149000, t1=149200, text=I am very happy to be here., probability=nan, t0=149200, t1=149400, text=I am very happy to be here., probability=nan, t0=149400, t1=149600, text=I am very happy to be here., probability=nan, t0=149600, t1=149800, text=I am very happy to be here., probability=nan, t0=149800, t1=150000, text=I am very happy to be here., probability=nan, t0=150000, t1=150200, text=I am very happy to be here., probability=nan, t0=150200, t1=150400, text=I am very happy to be here., probability=nan, t0=150400, t1=150600, text=I am very happy to be here., probability=nan, t0=150600, t1=150800, text=I am very happy to be here., probability=nan, t0=150800, t1=151000, text=I am very happy to be here., probability=nan, t0=151000, t1=151200, text=I am very happy to be here., probability=nan, t0=151200, t1=151400, text=I am very happy to be here., probability=nan, t0=151400, t1=151600, text=I am very happy to be here., probability=nan, t0=151600, t1=151800, text=I am very happy to be here., probability=nan, t0=151800, t1=152000, text=I am very happy to be here., probability=nan, t0=152000, t1=152200, text=I am very happy to be here., probability=nan, t0=152200, t1=152400, text=I am very happy to be here., probability=nan, t0=152400, t1=152600, text=I am very happy to be here., probability=nan, t0=152600, t1=152800, text=I am very happy to be here., probability=nan, t0=152800, t1=153000, text=I am very happy to be here., probability=nan, t0=153000, t1=153200, text=I am very happy to be here., probability=nan, t0=153200, t1=153400, text=I am very happy to be here., probability=nan, t0=153400, t1=153600, text=I am very happy to be here., probability=nan, t0=153600, t1=153800, text=I am very happy to be here., probability=nan, t0=153800, t1=154000, text=I am very happy to be here., probability=nan, t0=154000, t1=154200, text=I am very happy to be here., probability=nan, t0=154200, t1=154400, text=I am very happy to be here., probability=nan, t0=154400, t1=154600, text=I am very happy to be here., probability=nan, t0=154600, t1=154800, text=I am very happy to be here., probability=nan, t0=154800, t1=155000, text=I am very happy to be here., probability=nan, t0=155000, t1=155200, text=I am very happy to be here., probability=nan, t0=155200, t1=155400, text=I am very happy to be here., probability=nan, t0=155400, t1=155600, text=I am very happy to be here., probability=nan, t0=155600, t1=155800, text=I am very happy to be here., probability=nan, t0=155800, t1=156000, text=I am very happy to be here., probability=nan, t0=156000, t1=156200, text=I am very happy to be here., probability=nan, t0=156200, t1=156400, text=I am very happy to be here., probability=nan, t0=156400, t1=156600, text=I am very happy to be here., probability=nan, t0=156600, t1=156800, text=I am very happy to be here., probability=nan, t0=156800, t1=157000, text=I am very happy to be here., probability=nan, t0=157000, t1=157200, text=I am very happy to be here., probability=nan, t0=157200, t1=157400, text=I am very happy to be here., probability=nan, t0=157400, t1=157600, text=I am very happy to be here., probability=nan, t0=157600, t1=157800, text=I am very happy to be here., probability=nan, t0=157800, t1=158000, text=I am very happy to be here., probability=nan, t0=158000, t1=158200, text=I am very happy to be here., probability=nan, t0=158200, t1=158400, text=I am very happy to be here., probability=nan, t0=158400, t1=158600, text=I am very happy to be here., probability=nan, t0=158600, t1=158800, text=I am very happy to be here., probability=nan, t0=158800, t1=159000, text=I am very happy to be here., probability=nan, t0=159000, t1=159200, text=I am very happy to be here., probability=nan, t0=159200, t1=159400, text=I am very happy to be here., probability=nan, t0=159400, t1=159600, text=I am very happy to be here., probability=nan, t0=159600, t1=159800, text=I am very happy to be here., probability=nan, t0=159800, t1=160000, text=I am very happy to be here., probability=nan, t0=160000, t1=160200, text=I am very happy to be here., probability=nan, t0=160200, t1=160400, text=I am very happy to be here., probability=nan, t0=160400, t1=160600, text=I am very happy to be here., probability=nan, t0=160600, t1=160800, text=I am very happy to be here., probability=nan, t0=160800, t1=161000, text=I am very happy to be here., probability=nan, t0=161000, t1=161200, text=I am very happy to be here., probability=nan, t0=161200, t1=161400, text=I am very happy to be here., probability=nan, t0=161400, t1=161600, text=I am very happy to be here., probability=nan, t0=161600, t1=161800, text=I am very happy to be here., probability=nan, t0=161800, t1=162000, text=I am very happy to be here., probability=nan, t0=162000, t1=162200, text=I am very happy to be here., probability=nan, t0=162200, t1=162400, text=I am very happy to be here., probability=nan, t0=162400, t1=162600, text=I am very happy to be here., probability=nan, t0=162600, t1=162800, text=I am very happy to be here., probability=nan, t0=162800, t1=163000, text=I am very happy to be here., probability=nan, t0=163000, t1=163200, text=I am very happy to be here., probability=nan, t0=163200, t1=163400, text=I am very happy to be here., probability=nan, t0=163400, t1=163600, text=I am very happy to be here., probability=nan, t0=163600, t1=163800, text=I am very happy to be here., probability=nan, t0=163800, t1=164000, text=I am very happy to be here., probability=nan, t0=164000, t1=164200, text=I am very happy to be here., probability=nan, t0=164200, t1=164400, text=I am very happy to be here., probability=nan, t0=164400, t1=164600, text=I am very happy to be here., probability=nan, t0=164600, t1=164800, text=I am very happy to be here., probability=nan, t0=164800, t1=165000, text=I am very happy to be here., probability=nan, t0=165000, t1=165200, text=I am very happy to be here., probability=nan, t0=165200, t1=165400, text=I am very happy to be here., probability=nan, t0=165400, t1=165600, text=I am very happy to be here., probability=nan, t0=165600, t1=165700, text=I am very happy to be here., probability=nan, t0=165700, t1=165900, text=I am very happy to be here., probability=nan, t0=165900, t1=166100, text=I am very happy to be here., probability=nan, t0=166100, t1=166300, text=I am very happy to be here., probability=nan, t0=166300, t1=166500, text=I am very happy to be here., probability=nan, t0=166500, t1=166700, text=I am very happy to be here., probability=nan, t0=166700, t1=166900, text=I am very happy to be here., probability=nan, t0=166900, t1=167100, text=I am very happy to be here., probability=nan, t0=167100, t1=167300, text=I am very happy to be here., probability=nan, t0=167300, t1=167500, text=I am very happy to be here., probability=nan, t0=167500, t1=167700, text=I am very happy to be here., probability=nan, t0=167700, t1=167900, text=I am very happy to be here., probability=nan, t0=167900, t1=168100, text=I am very happy to be here., probability=nan, t0=168100, t1=168300, text=I am very happy to be here., probability=nan, t0=168300, t1=168500, text=I am very happy to be here., probability=nan, t0=168500, t1=168700, text=I am very happy to be here., probability=nan, t0=168700, t1=168900, text=I am very happy to be here., probability=nan, t0=168900, t1=169100, text=I am very happy to be here., probability=nan, t0=169100, t1=169300, text=I am very happy to be here., probability=nan, t0=169300, t1=169500, text=I am very happy to be here., probability=nan, t0=169500, t1=169700, text=I am very happy to be here., probability=nan, t0=169700, t1=169900, text=I am very happy to be here., probability=nan, t0=169900, t1=170100, text=I am very happy to be here., probability=nan, t0=170100, t1=170300, text=I am very happy to be here., probability=nan, t0=170300, t1=170500, text=I am very happy to be here., probability=nan, t0=170500, t1=170700, text=I am very happy to be here., probability=nan, t0=170700, t1=170900, text=I am very happy to be here., probability=nan, t0=170900, t1=171100, text=I am very happy to be here., probability=nan, t0=171100, t1=171300, text=I am very happy to be here., probability=nan, t0=171300, t1=171500, text=I am very happy to be here., probability=nan, t0=171500, t1=171700, text=I am very happy to be here., probability=nan, t0=171700, t1=171900, text=I am very happy to be here., probability=nan, t0=171900, t1=172100, text=I am very happy to be here., probability=nan, t0=172100, t1=172300, text=I am very happy to be here., probability=nan, t0=172300, t1=172500, text=I am very happy to be here., probability=nan, t0=172500, t1=172700, text=I am very happy to be here., probability=nan, t0=172700, t1=172900, text=I am very happy to be here., probability=nan, t0=172900, t1=173100, text=I am very happy to be here., probability=nan, t0=173100, t1=173300, text=I am very happy to be here., probability=nan, t0=173300, t1=173500, text=I am very happy to be here., probability=nan, t0=173500, t1=173700, text=I am very happy to be here., probability=nan, t0=173700, t1=173900, text=I am very happy to be here., probability=nan, t0=173900, t1=174100, text=I am very happy to be here., probability=nan, t0=174100, t1=174200, text=I am very happy to be here., probability=nan, t0=174200, t1=174400, text=I am very happy to be here., probability=nan, t0=174400, t1=174600, text=I am very happy to be here., probability=nan, t0=174600, t1=174800, text=I am very happy to be here., probability=nan, t0=174800, t1=175000, text=I am very happy to be here., probability=nan, t0=175000, t1=175200, text=I am very happy to be here., probability=nan, t0=175200, t1=175400, text=I am very happy to be here., probability=nan, t0=175400, t1=175600, text=I am very happy to be here., probability=nan, t0=175600, t1=175800, text=I am very happy to be here., probability=nan, t0=175800, t1=176000, text=I am very happy to be here., probability=nan, t0=176000, t1=176200, text=I am very happy to be here., probability=nan, t0=176200, t1=176400, text=I am very happy to be here., probability=nan, t0=176400, t1=176600, text=I am very happy to be here., probability=nan, t0=176600, t1=176800, text=I am very happy to be here., probability=nan, t0=176800, t1=177000, text=I am very happy to be here., probability=nan, t0=177000, t1=177200, text=I am very happy to be here., probability=nan, t0=177200, t1=177400, text=I am very happy to be here., probability=nan, t0=177400, t1=177600, text=I am very happy to be here., probability=nan, t0=177600, t1=177800, text=I am very happy to be here., probability=nan, t0=177800, t1=178000, text=I am very happy to be here., probability=nan, t0=178000, t1=178200, text=I am very happy to be here., probability=nan, t0=178200, t1=178400, text=I am very happy to be here., probability=nan, t0=178400, t1=178600, text=I am very happy to be here., probability=nan, t0=178600, t1=178800, text=I am very happy to be here., probability=nan, t0=178800, t1=179000, text=I am very happy to be here., probability=nan, t0=179000, t1=179200, text=I am very happy to be here., probability=nan, t0=179200, t1=179400, text=I am very happy to be here., probability=nan, t0=179400, t1=179600, text=I am very happy to be here., probability=nan, t0=179600, t1=179800, text=I am very happy to be here., probability=nan, t0=179800, t1=180000, text=I am very happy to be here., probability=nan, t0=180000, t1=180200, text=I am very happy to be here., probability=nan, t0=180200, t1=180400, text=I am very happy to be here., probability=nan, t0=180400, t1=180600, text=I am very happy to be here., probability=nan, t0=180600, t1=180800, text=I am very happy to be here., probability=nan, t0=180800, t1=181000, text=I am very happy to be here., probability=nan, t0=181000, t1=181200, text=I am very happy to be here., probability=nan, t0=181200, t1=181400, text=I am very happy to be here., probability=nan, t0=181400, t1=181600, text=I am very happy to be here., probability=nan, t0=181600, t1=181800, text=I am very happy to be here., probability=nan, t0=181800, t1=182000, text=I am very happy to be here., probability=nan, t0=182000, t1=182200, text=I am very happy to be here., probability=nan, t0=182200, t1=182400, text=I am very happy to be here., probability=nan, t0=182400, t1=182600, text=I am very happy to be here., probability=nan, t0=182600, t1=182800, text=I am very happy to be here., probability=nan, t0=182800, t1=183000, text=I am very happy to be here., probability=nan, t0=183000, t1=183200, text=I am very happy to be here., probability=nan, t0=183200, t1=183400, text=I am very happy to be here., probability=nan, t0=183400, t1=183600, text=I am very happy to be here., probability=nan, t0=183600, t1=183800, text=I am very happy to be here., probability=nan, t0=183800, t1=184000, text=I am very happy to be here., probability=nan, t0=184000, t1=184200, text=I am very happy to be here., probability=nan, t0=184200, t1=184400, text=I am very happy to be here., probability=nan, t0=184400, t1=184600, text=I am very happy to be here., probability=nan, t0=184600, t1=184800, text=I am very happy to be here., probability=nan, t0=184800, t1=185000, text=I am very happy to be here., probability=nan, t0=185000, t1=185200, text=I am very happy to be here., probability=nan, t0=185200, t1=185400, text=I am very happy to be here., probability=nan, t0=185400, t1=185600, text=I am very happy to be here., probability=nan, t0=185600, t1=185800, text=I am very happy to be here., probability=nan, t0=185800, t1=186000, text=I am very happy to be here., probability=nan, t0=186000, t1=186200, text=I am very happy to be here., probability=nan, t0=186200, t1=186400, text=I am very happy to be here., probability=nan, t0=186400, t1=186600, text=I am very happy to be here., probability=nan, t0=186600, t1=186800, text=I am very happy to be here., probability=nan, t0=186800, t1=187000, text=I am very happy to be here., probability=nan, t0=187000, t1=187200, text=I am very happy to be here., probability=nan, t0=187200, t1=187400, text=I am very happy to be here., probability=nan, t0=187400, t1=187600, text=I am very happy to be here., probability=nan, t0=187600, t1=187800, text=I am very happy to be here., probability=nan, t0=187800, t1=188000, text=I am very happy to be here., probability=nan, t0=188000, t1=188200, text=I am very happy to be here., probability=nan, t0=188200, t1=188400, text=I am very happy to be here., probability=nan, t0=188400, t1=188600, text=I am very happy to be here., probability=nan, t0=188600, t1=188800, text=I am very happy to be here., probability=nan, t0=188800, t1=189000, text=I am very happy to be here., probability=nan, t0=189000, t1=189200, text=I am very happy to be here., probability=nan, t0=189200, t1=189400, text=I am very happy to be here., probability=nan, t0=189400, t1=189600, text=I am very happy to be here., probability=nan, t0=189600, t1=189800, text=I am very happy to be here., probability=nan, t0=189800, t1=190000, text=I am very happy to be here., probability=nan, t0=190000, t1=190200, text=I am very happy to be here., probability=nan, t0=190200, t1=190400, text=I am very happy to be here., probability=nan, t0=190400, t1=190600, text=I am very happy to be here., probability=nan, t0=190600, t1=190800, text=I am very happy to be here., probability=nan, t0=190800, t1=191000, text=I am very happy to be here., probability=nan, t0=191000, t1=191200, text=I am very happy to be here., probability=nan, t0=191200, t1=191400, text=I am very happy to be here., probability=nan, t0=191400, t1=191600, text=I am very happy to be here., probability=nan, t0=191600, t1=191800, text=I am very happy to be here., probability=nan, t0=191800, t1=192000, text=I am very happy to be here., probability=nan, t0=192000, t1=192200, text=I am very happy to be here., probability=nan, t0=192200, t1=192400, text=I am very happy to be here., probability=nan, t0=192400, t1=192600, text=I am very happy to be here., probability=nan, t0=192600, t1=192800, text=I am very happy to be here., probability=nan, t0=192800, t1=193000, text=I am very happy to be here., probability=nan, t0=193000, t1=193200, text=I am very happy to be here., probability=nan, t0=193200, t1=193400, text=I am very happy to be here., probability=nan, t0=193400, t1=193600, text=I am very happy to be here., probability=nan, t0=193600, t1=193800, text=I am very happy to be here., probability=nan, t0=193800, t1=194000, text=I am very happy to be here., probability=nan, t0=194000, t1=194200, text=I am very happy to be here., probability=nan, t0=194200, t1=194400, text=I am very happy to be here., probability=nan, t0=194400, t1=194600, text=I am very happy to be here., probability=nan, t0=194600, t1=194800, text=I am very happy to be here., probability=nan, t0=194800, t1=195000, text=I am very happy to be here., probability=nan, t0=195000, t1=195200, text=I am very happy to be here., probability=nan, t0=195200, t1=195400, text=I am very happy to be here., probability=nan, t0=195400, t1=195600, text=I am very happy to be here., probability=nan, t0=195600, t1=195800, text=I am very happy to be here., probability=nan, t0=195800, t1=196000, text=I am very happy to be here., probability=nan, t0=196000, t1=196200, text=I am very happy to be here., probability=nan, t0=196200, t1=196400, text=I am very happy to be here., probability=nan, t0=196400, t1=196600, text=I am very happy to be here., probability=nan, t0=196600, t1=196800, text=I am very happy to be here., probability=nan, t0=196800, t1=197000, text=I am very happy to be here., probability=nan, t0=197000, t1=197200, text=I am very happy to be here., probability=nan, t0=197200, t1=197400, text=I am very happy to be here., probability=nan, t0=197400, t1=197600, text=I am very happy to be here., probability=nan, t0=197600, t1=197800, text=I am very happy to be here., probability=nan, t0=197800, t1=198000, text=I am very happy to be here., probability=nan, t0=198000, t1=198200, text=I am very happy to be here., probability=nan, t0=198200, t1=198400, text=I am very happy to be here., probability=nan, t0=198400, t1=198600, text=I am very happy to be here., probability=nan, t0=198600, t1=198800, text=I am very happy to be here., probability=nan, t0=198800, t1=199000, text=I am very happy to be here., probability=nan, t0=199000, t1=199200, text=I am very happy to be here., probability=nan, t0=199200, t1=199400, text=I am very happy to be here., probability=nan, t0=199400, t1=199600, text=I am very happy to be here., probability=nan, t0=199600, t1=199800, text=I am very happy to be here., probability=nan, t0=199800, t1=200000, text=I am very happy to be here., probability=nan, t0=200000, t1=200200, text=I am very happy to be here., probability=nan, t0=200200, t1=200400, text=I am very happy to be here., probability=nan, t0=200400, t1=200600, text=I am very happy to be here., probability=nan, t0=200600, t1=200800, text=I am very happy to be here., probability=nan, t0=200800, t1=201000, text=I am very happy to be here., probability=nan, t0=201000, t1=201200, text=I am very happy to be here., probability=nan, t0=201200, t1=201400, text=I am very happy to be here., probability=nan, t0=201400, t1=201600, text=I am very happy to be here., probability=nan, t0=201600, t1=201800, text=I am very happy to be here., probability=nan, t0=201800, t1=202000, text=I am very happy to be here., probability=nan, t0=202000, t1=202200, text=I am very happy to be here., probability=nan, t0=202200, t1=202400, text=I am very happy to be here., probability=nan, t0=202400, t1=202600, text=I am very happy to be here., probability=nan, t0=202600, t1=202800, text=I am very happy to be here., probability=nan, t0=202800, t1=203000, text=I am very happy to be here., probability=nan, t0=203000, t1=203200, text=I am very happy to be here., probability=nan, t0=203200, t1=203400, text=I am very happy to be here., probability=nan, t0=203400, t1=203600, text=I am very happy to be here., probability=nan, t0=203600, t1=203800, text=I am very happy to be here., probability=nan, t0=203800, t1=204000, text=I am very happy to be here., probability=nan, t0=204000, t1=204200, text=I am very happy to be here., probability=nan, t0=204200, t1=204400, text=I am very happy to be here., probability=nan, t0=204400, t1=204600, text=I am very happy to be here., probability=nan, t0=204600, t1=204800, text=I am very happy to be here., probability=nan, t0=204800, t1=205000, text=I am very happy to be here., probability=nan, t0=205000, t1=205200, text=I am very happy to be here., probability=nan, t0=205200, t1=205400, text=I am very happy to be here., probability=nan, t0=205400, t1=205600, text=I am very happy to be here., probability=nan, t0=205600, t1=205800, text=I am very happy to be here., probability=nan, t0=205800, t1=206000, text=I am very happy to be here., probability=nan, t0=206000, t1=206200, text=I am very happy to be here., probability=nan, t0=206200, t1=206400, text=I am very happy to be here., probability=nan, t0=206400, t1=206600, text=I am very happy to be here., probability=nan, t0=206600, t1=206800, text=I am very happy to be here., probability=nan, t0=206800, t1=207000, text=I am very happy to be here., probability=nan, t0=207000, t1=207200, text=I am very happy to be here., probability=nan, t0=207200, t1=207400, text=I am very happy to be here., probability=nan, t0=207400, t1=207600, text=I am very happy to be here., probability=nan, t0=207600, t1=207800, text=I am very happy to be here., probability=nan, t0=207800, t1=208000, text=I am very happy to be here., probability=nan, t0=208000, t1=208200, text=I am very happy to be here., probability=nan, t0=208200, t1=208400, text=I am very happy to be here., probability=nan, t0=208400, t1=208600, text=I am very happy to be here., probability=nan, t0=208600, t1=208800, text=I am very happy to be here., probability=nan, t0=208800, t1=209000, text=I am very happy to be here., probability=nan, t0=209000, t1=209200, text=I am very happy to be here., probability=nan, t0=209200, t1=209400, text=I am very happy to be here., probability=nan, t0=209400, t1=209600, text=I am very happy to be here., probability=nan, t0=209600, t1=209800, text=I am very happy to be here., probability=nan, t0=209800, t1=210000, text=I am very happy to be here., probability=nan, t0=210000, t1=210200, text=I am very happy to be here., probability=nan, t0=210200, t1=210400, text=I am very happy to be here., probability=nan, t0=210400, t1=210600, text=I am very happy to be here., probability=nan, t0=210600, t1=210800, text=I am very happy to be here., probability=nan, t0=210800, t1=211000, text=I am very happy to be here., probability=nan, t0=211000, t1=211200, text=I am very happy to be here., probability=nan, t0=211200, t1=211400, text=I am very happy to be here., probability=nan, t0=211400, t1=211600, text=I am very happy to be here., probability=nan, t0=211600, t1=211800, text=I am very happy to be here., probability=nan, t0=211800, t1=212000, text=I am very happy to be here., probability=nan, t0=212000, t1=212200, text=I am very happy to be here., probability=nan, t0=212200, t1=212400, text=I am very happy to be here., probability=nan, t0=212400, t1=212600, text=I am very happy to be here., probability=nan, t0=212600, t1=212800, text=I am very happy to be here., probability=nan, t0=212800, t1=213000, text=I am very happy to be here., probability=nan, t0=213000, t1=213200, text=I am very happy to be here., probability=nan, t0=213200, t1=213400, text=I am very happy to be here., probability=nan, t0=213400, t1=213600, text=I am very happy to be here., probability=nan, t0=213600, t1=213800, text=I am very happy to be here., probability=nan, t0=213800, t1=214000, text=I am very happy to be here., probability=nan, t0=214000, t1=214200, text=I am very happy to be here., probability=nan, t0=214200, t1=214400, text=I am very happy to be here., probability=nan, t0=214400, t1=214600, text=I am very happy to be here., probability=nan, t0=214600, t1=214800, text=I am very happy to be here., probability=nan, t0=214800, t1=215000, text=I am very happy to be here., probability=nan, t0=215000, t1=215200, text=I am very happy to be here., probability=nan, t0=215200, t1=215400, text=I am very happy to be here., probability=nan, t0=215400, t1=215600, text=I am very happy to be here., probability=nan, t0=215600, t1=215800, text=I am very happy to be here., probability=nan, t0=215800, t1=216000, text=I am very happy to be here., probability=nan, t0=216000, t1=216200, text=I am very happy to be here., probability=nan, t0=216200, t1=216400, text=I am very happy to be here., probability=nan, t0=216400, t1=216600, text=I am very happy to be here., probability=nan, t0=216600, t1=216800, text=I am very happy to be here., probability=nan, t0=216800, t1=217000, text=I am very happy to be here., probability=nan, t0=217000, t1=217200, text=I am very happy to be here., probability=nan, t0=217200, t1=217400, text=I am very happy to be here., probability=nan, t0=217400, t1=217600, text=I am very happy to be here., probability=nan, t0=217600, t1=217800, text=I am very happy to be here., probability=nan, t0=217800, t1=218000, text=I am very happy to be here., probability=nan, t0=218000, t1=218200, text=I am very happy to be here., probability=nan, t0=218200, t1=218400, text=I am very happy to be here., probability=nan, t0=218400, t1=218600, text=I am very happy to be here., probability=nan, t0=218600, t1=218800, text=I am very happy to be here., probability=nan, t0=218800, t1=219000, text=I am very happy to be here., probability=nan, t0=219000, t1=219200, text=I am very happy to be here., probability=nan, t0=219200, t1=219400, text=I am very happy to be here., probability=nan, t0=219400, t1=219600, text=I am very happy to be here., probability=nan, t0=219600, t1=219800, text=I am very happy to be here., probability=nan, t0=219800, t1=220000, text=I am very happy to be here., probability=nan, t0=220000, t1=220200, text=I am very happy to be here., probability=nan, t0=220200, t1=220400, text=I am very happy to be here., probability=nan, t0=220400, t1=220600, text=I am very happy to be here., probability=nan, t0=220600, t1=220800, text=I am very happy to be here., probability=nan, t0=220800, t1=221000, text=I am very happy to be here., probability=nan, t0=221000, t1=221200, text=I am very happy to be here., probability=nan, t0=221200, t1=221400, text=I am very happy to be here., probability=nan, t0=221400, t1=221600, text=I am very happy to be here., probability=nan, t0=221600, t1=221800, text=I am very happy to be here., probability=nan, t0=221800, t1=222000, text=I am very happy to be here., probability=nan, t0=222000, t1=222200, text=I am very happy to be here., probability=nan, t0=222200, t1=222400, text=I am very happy to be here., probability=nan, t0=222400, t1=222600, text=I am very happy to be here., probability=nan, t0=222600, t1=222800, text=I am very happy to be here., probability=nan, t0=222800, t1=223000, text=I am very happy to be here., probability=nan, t0=223000, t1=223200, text=I am very happy to be here., probability=nan, t0=223200, t1=223400, text=I am very happy to be here., probability=nan, t0=223400, t1=223600, text=I am very happy to be here., probability=nan, t0=223600, t1=223800, text=I am very happy to be here., probability=nan, t0=223800, t1=224000, text=I am very happy to be here., probability=nan, t0=224000, t1=224200, text=I am very happy to be here., probability=nan, t0=224200, t1=224400, text=I am very happy to be here., probability=nan, t0=224400, t1=224600, text=I am very happy to be here., probability=nan, t0=224600, t1=224800, text=I am very happy to be here., probability=nan, t0=224800, t1=225000, text=I am very happy to be here., probability=nan, t0=225000, t1=225200, text=I am very happy to be here., probability=nan, t0=225200, t1=225400, text=I am very happy to be here., probability=nan, t0=225400, t1=225600, text=I am very happy to be here., probability=nan, t0=225600, t1=225800, text=I am very happy to be here., probability=nan, t0=225800, t1=226000, text=I am very happy to be here., probability=nan, t0=226000, t1=226200, text=I am very happy to be here., probability=nan, t0=226200, t1=226400, text=I am very happy to be here., probability=nan, t0=226400, t1=226600, text=I am very happy to be here., probability=nan, t0=226600, t1=226800, text=I am very happy to be here., probability=nan, t0=226800, t1=227000, text=I am very happy to be here., probability=nan, t0=227000, t1=227200, text=I am very happy to be here., probability=nan, t0=227200, t1=227400, text=I am very happy to be here., probability=nan, t0=227400, t1=227600, text=I am very happy to be here., probability=nan, t0=227600, t1=227800, text=I am very happy to be here., probability=nan, t0=227800, t1=228000, text=I am very happy to be here., probability=nan, t0=228000, t1=228200, text=I am very happy to be here., probability=nan, t0=228200, t1=228400, text=I am very happy to be here., probability=nan, t0=228400, t1=228600, text=I am very happy to be here., probability=nan, t0=228600, t1=228800, text=I am very happy to be here., probability=nan, t0=228800, t1=229000, text=I am very happy to be here., probability=nan, t0=229000, t1=229200, text=I am very happy to be here., probability=nan, t0=229200, t1=229400, text=I am very happy to be here., probability=nan, t0=229400, t1=229600, text=I am very happy to be here., probability=nan, t0=229600, t1=229800, text=I am very happy to be here., probability=nan, t0=229800, t1=230000, text=I am very happy to be here., probability=nan, t0=230000, t1=230200, text=I am very happy to be here., probability=nan, t0=230200, t1=230400, text=I am very happy to be here., probability=nan, t0=230400, t1=230600, text=I am very happy to be here., probability=nan, t0=230600, t1=230800, text=I am very happy to be here., probability=nan, t0=230800, t1=231000, text=I am very happy to be here., probability=nan, t0=231000, t1=231200, text=I am very happy to be here., probability=nan, t0=231200, t1=231400, text=I am very happy to be here., probability=nan, t0=231400, t1=231600, text=I am very happy to be here., probability=nan, t0=231600, t1=231800, text=I am very happy to be here., probability=nan, t0=231800, t1=232000, text=I am very happy to be here., probability=nan, t0=232000, t1=232200, text=I am very happy to be here., probability=nan, t0=232200, t1=232400, text=I am very happy to be here., probability=nan, t0=232400, t1=232600, text=I am very happy to be here., probability=nan, t0=232600, t1=232800, text=I am very happy to be here., probability=nan, t0=232800, t1=233000, text=I am very happy to be here., probability=nan, t0=233000, t1=233200, text=I am very happy to be here., probability=nan, t0=233200, t1=233400, text=I am very happy to be here., probability=nan, t0=233400, t1=233600, text=I am very happy to be here., probability=nan, t0=233600, t1=233800, text=I am very happy to be here., probability=nan, t0=233800, t1=234000, text=I am very happy to be here., probability=nan, t0=234000, t1=234200, text=I am very happy to be here., probability=nan, t0=234200, t1=234400, text=I am very happy to be here., probability=nan, t0=234400, t1=234600, text=I am very happy to be here., probability=nan, t0=234600, t1=234800, text=I am very happy to be here., probability=nan, t0=234800, t1=235000, text=I am very happy to be here., probability=nan, t0=235000, t1=235200, text=I am very happy to be here., probability=nan, t0=235200, t1=235400, text=I am very happy to be here., probability=nan, t0=235400, t1=235600, text=I am very happy to be here., probability=nan, t0=235600, t1=235800, text=I am very happy to be here., probability=nan, t0=235800, t1=236000, text=I am very happy to be here., probability=nan, t0=236000, t1=236200, text=I am very happy to be here., probability=nan, t0=236200, t1=236400, text=I am very happy to be here., probability=nan, t0=236400, t1=236600, text=I am very happy to be here., probability=nan, t0=236600, t1=236800, text=I am very happy to be here., probability=nan, t0=236800, t1=237000, text=I am very happy to be here., probability=nan, t0=237000, t1=237200, text=I am very happy to be here., probability=nan, t0=237200, t1=237400, text=I am very happy to be here., probability=nan, t0=237400, t1=237600, text=I am very happy to be here., probability=nan, t0=237600, t1=237800, text=I am very happy to be here., probability=nan, t0=237800, t1=238000, text=I am very happy to be here., probability=nan, t0=238000, t1=238200, text=I am very happy to be here., probability=nan, t0=238200, t1=238400, text=I am very happy to be here., probability=nan, t0=238400, t1=238600, text=I am very happy to be here., probability=nan, t0=238600, t1=238800, text=I am very happy to be here., probability=nan, t0=238800, t1=239000, text=I am very happy to be here., probability=nan, t0=239000, t1=239200, text=I am very happy to be here., probability=nan, t0=239200, t1=239400, text=I am very happy to be here., probability=nan, t0=239400, t1=239600, text=I am very happy to be here., probability=nan, t0=239600, t1=239800, text=I am very happy to be here., probability=nan, t0=239800, t1=240000, text=I am very happy to be here., probability=nan, t0=240000, t1=240200, text=I am very happy to be here., probability=nan, t0=240200, t1=240400, text=I am very happy to be here., probability=nan, t0=240400, t1=240600, text=I am very happy to be here., probability=nan, t0=240600, t1=240800, text=I am very happy to be here., probability=nan, t0=240800, t1=241000, text=I am very happy to be here., probability=nan, t0=241000, t1=241200, text=I am very happy to be here., probability=nan, t0=241200, t1=241400, text=I am very happy to be here., probability=nan, t0=241400, t1=241600, text=I am very happy to be here., probability=nan, t0=241600, t1=241800, text=I am very happy to be here., probability=nan, t0=241800, t1=242000, text=I am very happy to be here., probability=nan, t0=242000, t1=242200, text=I am very happy to be here., probability=nan, t0=242200, t1=242400, text=I am very happy to be here., probability=nan, t0=242400, t1=242600, text=I am very happy to be here., probability=nan, t0=242600, t1=242800, text=I am very happy to be here., probability=nan, t0=242800, t1=243000, text=I am very happy to be here., probability=nan, t0=243000, t1=243200, text=I am very happy to be here., probability=nan, t0=243200, t1=243400, text=I am very happy to be here., probability=nan, t0=243400, t1=243600, text=I am very happy to be here., probability=nan, t0=243600, t1=243800, text=I am very happy to be here., probability=nan, t0=243800, t1=244000, text=I am very happy to be here., probability=nan, t0=244000, t1=244200, text=I am very happy to be here., probability=nan, t0=244200, t1=244400, text=I am very happy to be here., probability=nan, t0=244400, t1=244600, text=I am very happy to be here., probability=nan, t0=244600, t1=244800, text=I am very happy to be here., probability=nan, t0=244800, t1=245000, text=I am very happy to be here., probability=nan, t0=245000, t1=245200, text=I am very happy to be here., probability=nan, t0=245200, t1=245400, text=I am very happy to be here., probability=nan, t0=245400, t1=245600, text=I am very happy to be here., probability=nan, t0=245600, t1=245800, text=I am very happy to be here., probability=nan, t0=245800, t1=246000, text=I am very happy to be here., probability=nan, t0=246000, t1=246200, text=I am very happy to be here., probability=nan, t0=246200, t1=246400, text=I am very happy to be here., probability=nan, t0=246400, t1=246600, text=I am very happy to be here., probability=nan, t0=246600, t1=246800, text=I am very happy to be here., probability=nan, t0=246800, t1=247000, text=I am very happy to be here., probability=nan, t0=247000, t1=247200, text=I am very happy to be here., probability=nan, t0=247200, t1=247400, text=I am very happy to be here., probability=nan, t0=247400, t1=247600, text=I am very happy to be here., probability=nan, t0=247600, t1=247800, text=I am very happy to be here., probability=nan, t0=247800, t1=248000, text=I am very happy to be here., probability=nan, t0=248000, t1=248200, text=I am very happy to be here., probability=nan, t0=248200, t1=248400, text=I am very happy to be here., probability=nan, t0=248400, t1=248600, text=I am very happy to be here., probability=nan, t0=248600, t1=248800, text=I am very happy to be here., probability=nan, t0=248800, t1=249000, text=I am very happy to be here., probability=nan, t0=249000, t1=249200, text=I am very happy to be here., probability=nan, t0=249200, t1=249400, text=I am very happy to be here., probability=nan, t0=249400, t1=249600, text=I am very happy to be here., probability=nan, t0=249600, t1=249800, text=I am very happy to be here., probability=nan, t0=249800, t1=250000, text=I am very happy to be here., probability=nan, t0=250000, t1=250200, text=I am very happy to be here., probability=nan, t0=250200, t1=250400, text=I am very happy to be here., probability=nan, t0=250400, t1=250600, text=I am very happy to be here., probability=nan, t0=250600, t1=250800, text=I am very happy to be here., probability=nan, t0=250800, t1=251000, text=I am very happy to be here., probability=nan, t0=251000, t1=251200, text=I am very happy to be here., probability=nan, t0=251200, t1=251400, text=I am very happy to be here., probability=nan, t0=251400, t1=251600, text=I am very happy to be here., probability=nan, t0=251600, t1=251800, text=I am very happy to be here., probability=nan, t0=251800, t1=252000, text=I am very happy to be here., probability=nan, t0=252000, t1=252200, text=I am very happy to be here., probability=nan, t0=252200, t1=252400, text=I am very happy to be here., probability=nan, t0=252400, t1=252600, text=I am very happy to be here., probability=nan, t0=252600, t1=252800, text=I am very happy to be here., probability=nan, t0=252800, t1=253000, text=I am very happy to be here., probability=nan, t0=253000, t1=253200, text=I am very happy to be here., probability=nan, t0=253200, t1=253400, text=I am very happy to be here., probability=nan, t0=253400, t1=253600, text=I am very happy to be here., probability=nan, t0=253600, t1=253800, text=I am very happy to be here., probability=nan, t0=253800, t1=254000, text=I am very happy to be here., probability=nan, t0=254000, t1=254200, text=I am very happy to be here., probability=nan, t0=254200, t1=254400, text=I am very happy to be here., probability=nan, t0=254400, t1=254600, text=I am very happy to be here., probability=nan, t0=254600, t1=254800, text=I am very happy to be here., probability=nan, t0=254800, t1=255000, text=I am very happy to be here., probability=nan, t0=255000, t1=255200, text=I am very happy to be here., probability=nan, t0=255200, t1=255400, text=I am very happy to be here., probability=nan, t0=255400, t1=255500, text=I am very happy to be here., probability=nan, t0=255500, t1=255700, text=I am very happy to be here., probability=nan, t0=255700, t1=255900, text=I am very happy to be here., probability=nan, t0=255900, t1=256100, text=I am very happy to be here., probability=nan, t0=256100, t1=256300, text=I am very happy to be here., probability=nan, t0=256300, t1=256500, text=I am very happy to be here., probability=nan, t0=256500, t1=256700, text=I am very happy to be here., probability=nan, t0=256700, t1=256900, text=I am very happy to be here., probability=nan, t0=256900, t1=257100, text=I am very happy to be here., probability=nan, t0=257100, t1=257300, text=I am very happy to be here., probability=nan, t0=257300, t1=257500, text=I am very happy to be here., probability=nan, t0=257500, t1=257700, text=I am very happy to be here., probability=nan, t0=257700, t1=257900, text=I am very happy to be here., probability=nan, t0=257900, t1=258100, text=I am very happy to be here., probability=nan, t0=258100, t1=258300, text=I am very happy to be here., probability=nan, t0=258300, t1=258500, text=I am very happy to be here., probability=nan, t0=258500, t1=258700, text=I am very happy to be here., probability=nan, t0=258700, t1=258900, text=I am very happy to be here., probability=nan, t0=258900, t1=259100, text=I am very happy to be here., probability=nan, t0=259100, t1=259300, text=I am very happy to be here., probability=nan, t0=259300, t1=259500, text=I am very happy to be here., probability=nan, t0=259500, t1=259700, text=I am very happy to be here., probability=nan, t0=259700, t1=259900, text=I am very happy to be here., probability=nan, t0=259900, t1=260100, text=I am very happy to be here., probability=nan, t0=260100, t1=260300, text=I am very happy to be here., probability=nan, t0=260300, t1=260500, text=I am very happy to be here., probability=nan, t0=260500, t1=260700, text=I am very happy to be here., probability=nan, t0=260700, t1=260900, text=I am very happy to be here., probability=nan, t0=260900, t1=261100, text=I am very happy to be here., probability=nan, t0=261100, t1=261300, text=I am very happy to be here., probability=nan, t0=261300, t1=261500, text=I am very happy to be here., probability=nan, t0=261500, t1=261700, text=I am very happy to be here., probability=nan, t0=261700, t1=261900, text=I am very happy to be here., probability=nan, t0=261900, t1=262100, text=I am very happy to be here., probability=nan, t0=262100, t1=262300, text=I am very happy to be here., probability=nan, t0=262300, t1=262500, text=I am very happy to be here., probability=nan, t0=262500, t1=262700, text=I am very happy to be here., probability=nan, t0=262700, t1=262900, text=I am very happy to be here., probability=nan, t0=262900, t1=263100, text=I am very happy to be here., probability=nan, t0=263100, t1=263300, text=I am very happy to be here., probability=nan, t0=263300, t1=263500, text=I am very happy to be here., probability=nan, t0=263500, t1=263700, text=I am very happy to be here., probability=nan, t0=263700, t1=263900, text=I am very happy to be here., probability=nan, t0=263900, t1=264100, text=I am very happy to be here., probability=nan, t0=264100, t1=264300, text=I am very happy to be here., probability=nan, t0=264300, t1=264500, text=I am very happy to be here., probability=nan, t0=264500, t1=264700, text=I am very happy to be here., probability=nan, t0=264700, t1=264900, text=I am very happy to be here., probability=nan, t0=264900, t1=265100, text=I am very happy to be here., probability=nan, t0=265100, t1=265300, text=I am very happy to be here., probability=nan, t0=265300, t1=265500, text=I am very happy to be here., probability=nan, t0=265500, t1=265700, text=I am very happy to be here., probability=nan, t0=265700, t1=265900, text=I am very happy to be here., probability=nan, t0=265900, t1=266100, text=I am very happy to be here., probability=nan, t0=266100, t1=266300, text=I am very happy to be here., probability=nan, t0=266300, t1=266500, text=I am very happy to be here., probability=nan, t0=266500, t1=266700, text=I am very happy to be here., probability=nan, t0=266700, t1=266900, text=I am very happy to be here., probability=nan, t0=266900, t1=267100, text=I am very happy to be here., probability=nan, t0=267100, t1=267300, text=I am very happy to be here., probability=nan, t0=267300, t1=267500, text=I am very happy to be here., probability=nan, t0=267500, t1=267700, text=I am very happy to be here., probability=nan, t0=267700, t1=267900, text=I am very happy to be here., probability=nan, t0=267900, t1=268100, text=I am very happy to be here., probability=nan, t0=268100, t1=268300, text=I am very happy to be here., probability=nan, t0=268300, t1=268500, text=I am very happy to be here., probability=nan, t0=268500, t1=268700, text=I am very happy to be here., probability=nan, t0=268700, t1=268900, text=I am very happy to be here., probability=nan, t0=268900, t1=269100, text=I am very happy to be here., probability=nan, t0=269100, t1=269300, text=I am very happy to be here., probability=nan, t0=269300, t1=269500, text=I am very happy to be here., probability=nan, t0=269500, t1=269700, text=I am very happy to be here., probability=nan, t0=269700, t1=269900, text=I am very happy to be here., probability=nan, t0=269900, t1=270100, text=I am very happy to be here., probability=nan, t0=270100, t1=270300, text=I am very happy to be here., probability=nan, t0=270300, t1=270500, text=I am very happy to be here., probability=nan, t0=270500, t1=270700, text=I am very happy to be here., probability=nan, t0=270700, t1=270900, text=I am very happy to be here., probability=nan, t0=270900, t1=271100, text=I am very happy to be here., probability=nan, t0=271100, t1=271300, text=I am very happy to be here., probability=nan, t0=271300, t1=271500, text=I am very happy to be here., probability=nan, t0=271500, t1=271700, text=I am very happy to be here., probability=nan, t0=271700, t1=271900, text=I am very happy to be here., probability=nan, t0=271900, t1=272100, text=I am very happy to be here., probability=nan, t0=272100, t1=272300, text=I am very happy to be here., probability=nan, t0=272300, t1=272400, text=I am very happy to be here., probability=nan, t0=272400, t1=272600, text=I am very happy to be here., probability=nan, t0=272600, t1=272800, text=I am very happy to be here., probability=nan, t0=272800, t1=273000, text=I am very happy to be here., probability=nan, t0=273000, t1=273200, text=I am very happy to be here., probability=nan, t0=273200, t1=273400, text=I am very happy to be here., probability=nan, t0=273400, t1=273600, text=I am very happy to be here., probability=nan, t0=273600, t1=273800, text=I am very happy to be here., probability=nan, t0=273800, t1=274000, text=I am very happy to be here., probability=nan, t0=274000, t1=274200, text=I am very happy to be here., probability=nan, t0=274200, t1=274400, text=I am very happy to be here., probability=nan, t0=274400, t1=274600, text=I am very happy to be here., probability=nan, t0=274600, t1=274800, text=I am very happy to be here., probability=nan, t0=274800, t1=275000, text=I am very happy to be here., probability=nan, t0=275000, t1=275200, text=I am very happy to be here., probability=nan, t0=275200, t1=275400, text=I am very happy to be here., probability=nan, t0=275400, t1=275600, text=I am very happy to be here., probability=nan, t0=275600, t1=275800, text=I am very happy to be here., probability=nan, t0=275800, t1=276000, text=I am very happy to be here., probability=nan, t0=276000, t1=276200, text=I am very happy to be here., probability=nan, t0=276200, t1=276400, text=I am very happy to be here., probability=nan, t0=276400, t1=276600, text=I am very happy to be here., probability=nan, t0=276600, t1=276800, text=I am very happy to be here., probability=nan, t0=276800, t1=277000, text=I am very happy to be here., probability=nan, t0=277000, t1=277200, text=I am very happy to be here., probability=nan, t0=277200, t1=277400, text=I am very happy to be here., probability=nan, t0=277400, t1=277600, text=I am very happy to be here., probability=nan, t0=277600, t1=277800, text=I am very happy to be here., probability=nan, t0=277800, t1=278000, text=I am very happy to be here., probability=nan, t0=278000, t1=278200, text=I am very happy to be here., probability=nan, t0=278200, t1=278400, text=I am very happy to be here., probability=nan, t0=278400, t1=278600, text=I am very happy to be here., probability=nan, t0=278600, t1=278800, text=I am very happy to be here., probability=nan, t0=278800, t1=279000, text=I am very happy to be here., probability=nan, t0=279000, t1=279200, text=I am very happy to be here., probability=nan, t0=279200, t1=279400, text=I am very happy to be here., probability=nan, t0=279400, t1=279600, text=I am very happy to be here., probability=nan, t0=279600, t1=279800, text=I am very happy to be here., probability=nan, t0=279800, t1=280000, text=I am very happy to be here., probability=nan, t0=280000, t1=280200, text=I am very happy to be here., probability=nan, t0=280200, t1=280400, text=I am very happy to be here., probability=nan, t0=280400, t1=280600, text=I am very happy to be here., probability=nan, t0=280600, t1=280800, text=I am very happy to be here., probability=nan, t0=280800, t1=281000, text=I am very happy to be here., probability=nan, t0=281000, t1=281200, text=I am very happy to be here., probability=nan, t0=281200, t1=281400, text=I am very happy to be here., probability=nan, t0=281400, t1=281600, text=I am very happy to be here., probability=nan, t0=281600, t1=281800, text=I am very happy to be here., probability=nan, t0=281800, t1=282000, text=I am very happy to be here., probability=nan, t0=282000, t1=282200, text=I am very happy to be here., probability=nan, t0=282200, t1=282400, text=I am very happy to be here., probability=nan, t0=282400, t1=282600, text=I am very happy to be here., probability=nan, t0=282600, t1=282800, text=I am very happy to be here., probability=nan, t0=282800, t1=283000, text=I am very happy to be here., probability=nan, t0=283000, t1=283200, text=I am very happy to be here., probability=nan, t0=283200, t1=283400, text=I am very happy to be here., probability=nan, t0=283400, t1=283600, text=I am very happy to be here., probability=nan, t0=283600, t1=283800, text=I am very happy to be here., probability=nan, t0=283800, t1=284000, text=I am very happy to be here., probability=nan, t0=284000, t1=284200, text=I am very happy to be here., probability=nan, t0=284200, t1=284400, text=I am very happy to be here., probability=nan, t0=284400, t1=284600, text=I am very happy to be here., probability=nan, t0=284600, t1=284800, text=I am very happy to be here., probability=nan, t0=284800, t1=285000, text=I am very happy to be here., probability=nan, t0=285000, t1=285200, text=I am very happy to be here., probability=nan, t0=285200, t1=285400, text=I am very happy to be here., probability=nan, t0=285400, t1=285600, text=I am very happy to be here., probability=nan, t0=285600, t1=285800, text=I am very happy to be here., probability=nan, t0=285800, t1=286000, text=I am very happy to be here., probability=nan, t0=286000, t1=286200, text=I am very happy to be here., probability=nan, t0=286200, t1=286400, text=I am very happy to be here., probability=nan, t0=286400, t1=286600, text=I am very happy to be here., probability=nan, t0=286600, t1=286800, text=I am very happy to be here., probability=nan, t0=286800, t1=287000, text=I am very happy to be here., probability=nan, t0=287000, t1=287200, text=I am very happy to be here., probability=nan, t0=287200, t1=287400, text=I am very happy to be here., probability=nan, t0=287400, t1=287600, text=I am very happy to be here., probability=nan, t0=287600, t1=287800, text=I am very happy to be here., probability=nan, t0=287800, t1=288000, text=I am very happy to be here., probability=nan, t0=288000, t1=288200, text=I am very happy to be here., probability=nan, t0=288200, t1=288400, text=I am very happy to be here., probability=nan, t0=288400, t1=288600, text=I am very happy to be here., probability=nan, t0=288600, t1=288800, text=I am very happy to be here., probability=nan, t0=288800, t1=289000, text=I am very happy to be here., probability=nan, t0=289000, t1=289200, text=I am very happy to be here., probability=nan, t0=289200, t1=289400, text=I am very happy to be here., probability=nan, t0=289400, t1=289600, text=I am very happy to be here., probability=nan, t0=289600, t1=289800, text=I am very happy to be here., probability=nan, t0=289800, t1=290000, text=I am very happy to be here., probability=nan, t0=290000, t1=290200, text=I am very happy to be here., probability=nan, t0=290200, t1=290400, text=I am very happy to be here., probability=nan, t0=290400, t1=290600, text=I am very happy to be here., probability=nan, t0=290600, t1=290800, text=I am very happy to be here., probability=nan, t0=290800, t1=291000, text=I am very happy to be here., probability=nan, t0=291000, t1=291200, text=I am very happy to be here., probability=nan, t0=291200, t1=291400, text=I am very happy to be here., probability=nan, t0=291400, t1=291600, text=I am very happy to be here., probability=nan, t0=291600, t1=291800, text=I am very happy to be here., probability=nan, t0=291800, t1=292000, text=I am very happy to be here., probability=nan, t0=292000, t1=292200, text=I am very happy to be here., probability=nan, t0=292200, t1=292400, text=I am very happy to be here., probability=nan, t0=292400, t1=292600, text=I am very happy to be here., probability=nan, t0=292600, t1=292800, text=I am very happy to be here., probability=nan, t0=292800, t1=293000, text=I am very happy to be here., probability=nan, t0=293000, t1=293200, text=I am very happy to be here., probability=nan, t0=293200, t1=293400, text=I am very happy to be here., probability=nan, t0=293400, t1=293600, text=I am very happy to be here., probability=nan, t0=293600, t1=293800, text=I am very happy to be here., probability=nan, t0=293800, t1=294000, text=I am very happy to be here., probability=nan, t0=294000, t1=294200, text=I am very happy to be here., probability=nan, t0=294200, t1=294400, text=I am very happy to be here., probability=nan, t0=294400, t1=294600, text=I am very happy to be here., probability=nan, t0=294600, t1=294800, text=I am very happy to be here., probability=nan, t0=294800, t1=295000, text=I am very happy to be here., probability=nan, t0=295000, t1=295200, text=I am very happy to be here., probability=nan, t0=295200, t1=295400, text=I am very happy to be here., probability=nan, t0=295400, t1=295600, text=I am very happy to be here., probability=nan, t0=295600, t1=295800, text=I am very happy to be here., probability=nan, t0=295800, t1=296000, text=I am very happy to be here., probability=nan, t0=296000, t1=296200, text=I am very happy to be here., probability=nan, t0=296200, t1=296400, text=I am very happy to be here., probability=nan, t0=296400, t1=296600, text=I am very happy to be here., probability=nan, t0=296600, t1=296800, text=I am very happy to be here., probability=nan, t0=296800, t1=297000, text=I am very happy to be here., probability=nan, t0=297000, t1=297200, text=I am very happy to be here., probability=nan, t0=297200, t1=297400, text=I am very happy to be here., probability=nan, t0=297400, t1=297600, text=I am very happy to be here., probability=nan, t0=297600, t1=297800, text=I am very happy to be here., probability=nan, t0=297800, t1=298000, text=I am very happy to be here., probability=nan, t0=298000, t1=298200, text=I am very happy to be here., probability=nan, t0=298200, t1=298400, text=I am very happy to be here., probability=nan, t0=298400, t1=298600, text=I am very happy to be here., probability=nan, t0=298600, t1=298800, text=I am very happy to be here., probability=nan, t0=298800, t1=299000, text=I am very happy to be here., probability=nan, t0=299000, t1=299200, text=I am very happy to be here., probability=nan, t0=299200, t1=299600, text=I am very happy to be here., probability=nan, t0=299600, t1=299800, text=I am very happy to be here., probability=nan, t0=299800, t1=300000, text=I am very happy to be here., probability=nan, t0=300000, t1=300200, text=I am very happy to be here., probability=nan, t0=300200, t1=300400, text=I am very happy to be here., probability=nan, t0=300400, t1=300600, text=I am very happy to be here., probability=nan, t0=300600, t1=300800, text=I am very happy to be here., probability=nan, t0=300800, t1=301000, text=I am very happy to be here., probability=nan, t0=301000, t1=301200, text=I am very happy to be here., probability=nan, t0=301200, t1=301400, text=I am very happy to be here., probability=nan, t0=301400, t1=301600, text=I am very happy to be here., probability=nan, t0=301600, t1=301800, text=I am very happy to be here., probability=nan, t0=301800, t1=302000, text=I am very happy to be here., probability=nan, t0=302000, t1=302200, text=I am very happy to be here., probability=nan, t0=302200, t1=302400, text=I am very happy to be here., probability=nan, t0=302400, t1=302600, text=I am very happy to be here., probability=nan, t0=302600, t1=302800, text=I am very happy to be here., probability=nan, t0=302800, t1=303000, text=I am very happy to be here., probability=nan, t0=303000, t1=303200, text=I am very happy to be here., probability=nan, t0=303200, t1=303300, text=I am very happy to be here., probability=nan, t0=303300, t1=303500, text=I am very happy to be here., probability=nan, t0=303500, t1=303700, text=I am very happy to be here., probability=nan, t0=303700, t1=303900, text=I am very happy to be here., probability=nan, t0=303900, t1=304100, text=I am very happy to be here., probability=nan, t0=304100, t1=304300, text=I am very happy to be here., probability=nan, t0=304300, t1=304500, text=I am very happy to be here., probability=nan, t0=304500, t1=304700, text=I am very happy to be here., probability=nan, t0=304700, t1=304900, text=I am very happy to be here., probability=nan, t0=304900, t1=305100, text=I am very happy to be here., probability=nan, t0=305100, t1=305300, text=I am very happy to be here., probability=nan, t0=305300, t1=305500, text=I am very happy to be here., probability=nan, t0=305500, t1=305700, text=I am very happy to be here., probability=nan, t0=305700, t1=305900, text=I am very happy to be here., probability=nan, t0=305900, t1=306100, text=I am very happy to be here., probability=nan, t0=306100, t1=306300, text=I am very happy to be here., probability=nan, t0=306300, t1=306500, text=I am very happy to be here., probability=nan, t0=306500, t1=306700, text=I am very happy to be here., probability=nan, t0=306700, t1=306900, text=I am very happy to be here., probability=nan, t0=306900, t1=307100, text=I am very happy to be here., probability=nan, t0=307100, t1=307300, text=I am very happy to be here., probability=nan, t0=307300, t1=307500, text=I am very happy to be here., probability=nan, t0=307500, t1=307700, text=I am very happy to be here., probability=nan, t0=307700, t1=307900, text=I am very happy to be here., probability=nan, t0=307900, t1=308100, text=I am very happy to be here., probability=nan, t0=308100, t1=308300, text=I am very happy to be here., probability=nan, t0=308300, t1=308500, text=I am very happy to be here., probability=nan, t0=308500, t1=308700, text=I am very happy to be here., probability=nan, t0=308700, t1=308900, text=I am very happy to be here., probability=nan, t0=308900, t1=309100, text=I am very happy to be here., probability=nan, t0=309100, t1=309300, text=I am very happy to be here., probability=nan, t0=309300, t1=309500, text=I am very happy to be here., probability=nan, t0=309500, t1=309700, text=I am very happy to be here., probability=nan, t0=309700, t1=309900, text=I am very happy to be here., probability=nan, t0=309900, t1=310100, text=I am very happy to be here., probability=nan, t0=310100, t1=310300, text=I am very happy to be here., probability=nan, t0=310300, t1=310500, text=I am very happy to be here., probability=nan, t0=310500, t1=310700, text=I am very happy to be here., probability=nan, t0=310700, t1=310900, text=I am very happy to be here., probability=nan, t0=310900, t1=311100, text=I am very happy to be here., probability=nan, t0=311100, t1=311300, text=I am very happy to be here., probability=nan, t0=311300, t1=311500, text=I am very happy to be here., probability=nan, t0=311500, t1=311700, text=I am very happy to be here., probability=nan, t0=311700, t1=311800, text=I am very happy to be here., probability=nan, t0=311800, t1=312000, text=I am very happy to be here., probability=nan, t0=312000, t1=312200, text=I am very happy to be here., probability=nan, t0=312200, t1=312400, text=I am very happy to be here., probability=nan, t0=312400, t1=312600, text=I am very happy to be here., probability=nan, t0=312600, t1=312800, text=I am very happy to be here., probability=nan, t0=312800, t1=313000, text=I am very happy to be here., probability=nan, t0=313000, t1=313200, text=I am very happy to be here., probability=nan, t0=313200, t1=313400, text=I am very happy to be here., probability=nan, t0=313400, t1=313600, text=I am very happy to be here., probability=nan, t0=313600, t1=313800, text=I am very happy to be here., probability=nan, t0=313800, t1=314000, text=I am very happy to be here., probability=nan, t0=314000, t1=314200, text=I am very happy to be here., probability=nan, t0=314200, t1=314400, text=I am very happy to be here., probability=nan, t0=314400, t1=314600, text=I am very happy to be here., probability=nan, t0=314600, t1=314800, text=I am very happy to be here., probability=nan, t0=314800, t1=315000, text=I am very happy to be here., probability=nan, t0=315000, t1=315200, text=I am very happy to be here., probability=nan, t0=315200, t1=315400, text=I am very happy to be here., probability=nan, t0=315400, t1=315600, text=I am very happy to be here., probability=nan, t0=315600, t1=315800, text=I am very happy to be here., probability=nan, t0=315800, t1=316000, text=I am very happy to be here., probability=nan, t0=316000, t1=316200, text=I am very happy to be here., probability=nan, t0=316200, t1=316400, text=I am very happy to be here., probability=nan, t0=316400, t1=316600, text=I am very happy to be here., probability=nan, t0=316600, t1=316800, text=I am very happy to be here., probability=nan, t0=316800, t1=317000, text=I am very happy to be here., probability=nan, t0=317000, t1=317200, text=I am very happy to be here., probability=nan, t0=317200, t1=317400, text=I am very happy to be here., probability=nan, t0=317400, t1=317600, text=I am very happy to be here., probability=nan, t0=317600, t1=317800, text=I am very happy to be here., probability=nan, t0=317800, t1=318000, text=I am very happy to be here., probability=nan, t0=318000, t1=318200, text=I am very happy to be here., probability=nan, t0=318200, t1=318400, text=I am very happy to be here., probability=nan, t0=318400, t1=318600, text=I am very happy to be here., probability=nan, t0=318600, t1=318800, text=I am very happy to be here., probability=nan, t0=318800, t1=319000, text=I am very happy to be here., probability=nan, t0=319000, t1=319200, text=I am very happy to be here., probability=nan, t0=319200, t1=319400, text=I am very happy to be here., probability=nan, t0=319400, t1=319600, text=I am very happy to be here., probability=nan, t0=319600, t1=319800, text=I am very happy to be here., probability=nan, t0=319800, t1=320000, text=I am very happy to be here., probability=nan, t0=320000, t1=320200, text=I am very happy to be here., probability=nan, t0=320200, t1=320400, text=I am very happy to be here., probability=nan, t0=320400, t1=320600, text=I am very happy to be here., probability=nan, t0=320600, t1=320800, text=I am very happy to be here., probability=nan, t0=320800, t1=321000, text=I am very happy to be here., probability=nan, t0=321000, t1=321200, text=I am very happy to be here., probability=nan, t0=321200, t1=321400, text=I am very happy to be here., probability=nan, t0=321400, t1=321600, text=I am very happy to be here., probability=nan, t0=321600, t1=321800, text=I am very happy to be here., probability=nan, t0=321800, t1=322000, text=I am very happy to be here., probability=nan, t0=322000, t1=322200, text=I am very happy to be here., probability=nan, t0=322200, t1=322400, text=I am very happy to be here., probability=nan, t0=322400, t1=322600, text=I am very happy to be here., probability=nan, t0=322600, t1=322800, text=I am very happy to be here., probability=nan, t0=322800, t1=323000, text=I am very happy to be here., probability=nan, t0=323000, t1=323200, text=I am very happy to be here., probability=nan, t0=323200, t1=323400, text=I am very happy to be here., probability=nan, t0=323400, t1=323600, text=I am very happy to be here., probability=nan, t0=323600, t1=323800, text=I am very happy to be here., probability=nan, t0=323800, t1=324000, text=I am very happy to be here., probability=nan, t0=324000, t1=324200, text=I am very happy to be here., probability=nan, t0=324200, t1=324400, text=I am very happy to be here., probability=nan, t0=324400, t1=324600, text=I am very happy to be here., probability=nan, t0=324600, t1=324800, text=I am very happy to be here., probability=nan, t0=324800, t1=325000, text=I am very happy to be here., probability=nan, t0=325000, t1=325200, text=I am very happy to be here., probability=nan, t0=325200, t1=325400, text=I am very happy to be here., probability=nan, t0=325400, t1=325600, text=I am very happy to be here., probability=nan, t0=325600, t1=325800, text=I am very happy to be here., probability=nan, t0=325800, t1=326000, text=I am very happy to be here., probability=nan, t0=326000, t1=326200, text=I am very happy to be here., probability=nan, t0=326200, t1=326400, text=I am very happy to be here., probability=nan, t0=326400, t1=326600, text=I am very happy to be here., probability=nan, t0=326600, t1=326800, text=I am very happy to be here., probability=nan, t0=326800, t1=327000, text=I am very happy to be here., probability=nan, t0=327000, t1=327200, text=I am very happy to be here., probability=nan, t0=327200, t1=327400, text=I am very happy to be here., probability=nan, t0=327400, t1=327600, text=I am very happy to be here., probability=nan, t0=327600, t1=327800, text=I am very happy to be here., probability=nan, t0=327800, t1=328000, text=I am very happy to be here., probability=nan, t0=328000, t1=328200, text=I am very happy to be here., probability=nan, t0=328200, t1=328400, text=I am very happy to be here., probability=nan, t0=328400, t1=328600, text=I am very happy to be here., probability=nan, t0=328600, t1=328800, text=I am very happy to be here., probability=nan, t0=328800, t1=329000, text=I am very happy to be here., probability=nan, t0=329000, t1=329200, text=I am very happy to be here., probability=nan, t0=329200, t1=329400, text=I am very happy to be here., probability=nan, t0=329400, t1=329600, text=I am very happy to be here., probability=nan, t0=329600, t1=329800, text=I am very happy to be here., probability=nan, t0=329800, t1=330000, text=I am very happy to be here., probability=nan, t0=330000, t1=330200, text=I am very happy to be here., probability=nan, t0=330200, t1=330400, text=I am very happy to be here., probability=nan, t0=330400, t1=330600, text=I am very happy to be here., probability=nan, t0=330600, t1=330800, text=I am very happy to be here., probability=nan, t0=330800, t1=331000, text=I am very happy to be here., probability=nan, t0=331000, t1=331200, text=I am very happy to be here., probability=nan, t0=331200, t1=331400, text=I am very happy to be here., probability=nan, t0=331400, t1=331600, text=I am very happy to be here., probability=nan, t0=331600, t1=331800, text=I am very happy to be here., probability=nan, t0=331800, t1=332000, text=I am very happy to be here., probability=nan, t0=332000, t1=332200, text=I am very happy to be here., probability=nan, t0=332200, t1=332400, text=I am very happy to be here., probability=nan, t0=332400, t1=332600, text=I am very happy to be here., probability=nan, t0=332600, t1=332800, text=I am very happy to be here., probability=nan, t0=332800, t1=333000, text=I am very happy to be here., probability=nan, t0=333000, t1=333200, text=I am very happy to be here., probability=nan, t0=333200, t1=333400, text=I am very happy to be here., probability=nan, t0=333400, t1=333600, text=I am very happy to be here., probability=nan, t0=333600, t1=333800, text=I am very happy to be here., probability=nan, t0=333800, t1=334000, text=I am very happy to be here., probability=nan, t0=334000, t1=334200, text=I am very happy to be here., probability=nan, t0=334200, t1=334400, text=I am very happy to be here., probability=nan, t0=334400, t1=334600, text=I am very happy to be here., probability=nan, t0=334600, t1=334800, text=I am very happy to be here., probability=nan, t0=334800, t1=335000, text=I am very happy to be here., probability=nan, t0=335000, t1=335200, text=I am very happy to be here., probability=nan, t0=335200, t1=335400, text=I am very happy to be here., probability=nan, t0=335400, t1=335600, text=I am very happy to be here., probability=nan, t0=335600, t1=335800, text=I am very happy to be here., probability=nan, t0=335800, t1=336000, text=I am very happy to be here., probability=nan, t0=336000, t1=336200, text=I am very happy to be here., probability=nan, t0=336200, t1=336400, text=I am very happy to be here., probability=nan, t0=336400, t1=336600, text=I am very happy to be here., probability=nan, t0=336600, t1=336800, text=I am very happy to be here., probability=nan, t0=336800, t1=337000, text=I am very happy to be here., probability=nan, t0=337000, t1=337200, text=I am very happy to be here., probability=nan, t0=337200, t1=337400, text=I am very happy to be here., probability=nan, t0=337400, t1=337600, text=I am very happy to be here., probability=nan, t0=337600, t1=337800, text=I am very happy to be here., probability=nan, t0=337800, t1=338000, text=I am very happy to be here., probability=nan, t0=338000, t1=338200, text=I am very happy to be here., probability=nan, t0=338200, t1=338400, text=I am very happy to be here., probability=nan, t0=338400, t1=338600, text=I am very happy to be here., probability=nan, t0=338600, t1=338800, text=I am very happy to be here., probability=nan, t0=338800, t1=339000, text=I am very happy to be here., probability=nan, t0=339000, t1=339200, text=I am very happy to be here., probability=nan, t0=339200, t1=339400, text=I am very happy to be here., probability=nan, t0=339400, t1=339600, text=I am very happy to be here., probability=nan, t0=339600, t1=339800, text=I am very happy to be here., probability=nan, t0=339800, t1=340000, text=I am very happy to be here., probability=nan, t0=340000, t1=340200, text=I am very happy to be here., probability=nan, t0=340200, t1=340400, text=I am very happy to be here., probability=nan, t0=340400, t1=340600, text=I am very happy to be here., probability=nan, t0=340600, t1=340800, text=I am very happy to be here., probability=nan, t0=340800, t1=341000, text=I am very happy to be here., probability=nan, t0=342800, t1=343000, text=I am very happy to be here., probability=nan, t0=343000, t1=343200, text=I am very happy to be here., probability=nan, t0=343200, t1=343400, text=I am very happy to be here., probability=nan, t0=343400, t1=343600, text=I am very happy to be here., probability=nan, t0=343600, t1=343800, text=I am very happy to be here., probability=nan, t0=343800, t1=344000, text=I am very happy to be here., probability=nan, t0=344000, t1=344200, text=I am very happy to be here., probability=nan, t0=344200, t1=344400, text=I am very happy to be here., probability=nan, t0=344400, t1=344600, text=I am very happy to be here., probability=nan, t0=344600, t1=344800, text=I am very happy to be here., probability=nan, t0=344800, t1=345000, text=I am very happy to be here., probability=nan, t0=345000, t1=345200, text=I am very happy to be here., probability=nan, t0=345200, t1=345400, text=I am very happy to be here., probability=nan, t0=345400, t1=345600, text=I am very happy to be here., probability=nan, t0=345600, t1=345800, text=I am very happy to be here., probability=nan, t0=345800, t1=346000, text=I am very happy to be here., probability=nan, t0=346000, t1=346200, text=I am very happy to be here., probability=nan, t0=346200, t1=346400, text=I am very happy to be here., probability=nan, t0=346400, t1=346600, text=I am very happy to be here., probability=nan, t0=346600, t1=346800, text=I am very happy to be here., probability=nan, t0=346800, t1=347000, text=I am very happy to be here., probability=nan, t0=347000, t1=347200, text=I am very happy to be here., probability=nan, t0=347200, t1=347400, text=I am very happy to be here., probability=nan, t0=347400, t1=347600, text=I am very happy to be here., probability=nan, t0=347600, t1=347800, text=I am very happy to be here., probability=nan, t0=347800, t1=348000, text=I am very happy to be here., probability=nan, t0=348000, t1=348200, text=I am very happy to be here., probability=nan, t0=348200, t1=348400, text=I am very happy to be here., probability=nan, t0=348400, t1=348600, text=I am very happy to be here., probability=nan, t0=348600, t1=348800, text=I am very happy to be here., probability=nan, t0=348800, t1=349000, text=I am very happy to be here., probability=nan, t0=349000, t1=349200, text=I am very happy to be here., probability=nan, t0=349200, t1=349400, text=I am very happy to be here., probability=nan, t0=349400, t1=349600, text=I am very happy to be here., probability=nan, t0=349600, t1=349800, text=I am very happy to be here., probability=nan, t0=349800, t1=350000, text=I am very happy to be here., probability=nan, t0=350000, t1=350200, text=I am very happy to be here., probability=nan, t0=350200, t1=350400, text=I am very happy to be here., probability=nan, t0=350400, t1=350600, text=I am very happy to be here., probability=nan, t0=350600, t1=350800, text=I am very happy to be here., probability=nan, t0=350800, t1=351000, text=I am very happy to be here., probability=nan, t0=351000, t1=351200, text=I am very happy to be here., probability=nan, t0=351200, t1=351400, text=I am very happy to be here., probability=nan, t0=351400, t1=351600, text=I am very happy to be here., probability=nan, t0=351600, t1=351800, text=I am very happy to be here., probability=nan, t0=351800, t1=352000, text=I am very happy to be here., probability=nan, t0=352000, t1=352200, text=I am very happy to be here., probability=nan, t0=352200, t1=352400, text=I am very happy to be here., probability=nan, t0=352400, t1=352600, text=I am very happy to be here., probability=nan, t0=352600, t1=352800, text=I am very happy to be here., probability=nan, t0=352800, t1=353000, text=I am very happy to be here., probability=nan, t0=353000, t1=353200, text=I am very happy to be here., probability=nan, t0=353200, t1=353400, text=I am very happy to be here., probability=nan, t0=353400, t1=353600, text=I am very happy to be here., probability=nan, t0=353600, t1=353800, text=I am very happy to be here., probability=nan, t0=353800, t1=354000, text=I am very happy to be here., probability=nan, t0=354000, t1=354100, text=I am very happy to be here., probability=nan, t0=354100, t1=354300, text=I am very happy to be here., probability=nan, t0=354300, t1=354500, text=I am very happy to be here., probability=nan, t0=354500, t1=354700, text=I am very happy to be here., probability=nan, t0=354700, t1=354900, text=I am very happy to be here., probability=nan, t0=354900, t1=355100, text=I am very happy to be here., probability=nan, t0=355100, t1=355300, text=I am very happy to be here., probability=nan, t0=355300, t1=355500, text=I am very happy to be here., probability=nan, t0=355500, t1=355700, text=I am very happy to be here., probability=nan, t0=355700, t1=355900, text=I am very happy to be here., probability=nan, t0=355900, t1=356100, text=I am very happy to be here., probability=nan, t0=356100, t1=356300, text=I am very happy to be here., probability=nan, t0=356300, t1=356500, text=I am very happy to be here., probability=nan, t0=356500, t1=356700, text=I am very happy to be here., probability=nan, t0=356700, t1=356900, text=I am very happy to be here., probability=nan, t0=356900, t1=357100, text=I am very happy to be here., probability=nan, t0=357100, t1=357300, text=I am very happy to be here., probability=nan, t0=357300, t1=357500, text=I am very happy to be here., probability=nan, t0=357500, t1=357700, text=I am very happy to be here., probability=nan, t0=357700, t1=357900, text=I am very happy to be here., probability=nan, t0=357900, t1=358100, text=I am very happy to be here., probability=nan, t0=358100, t1=358300, text=I am very happy to be here., probability=nan, t0=358300, t1=358500, text=I am very happy to be here., probability=nan, t0=358500, t1=358700, text=I am very happy to be here., probability=nan, t0=358700, t1=358900, text=I am very happy to be here., probability=nan, t0=358900, t1=359100, text=I am very happy to be here., probability=nan, t0=359100, t1=359300, text=I am very happy to be here., probability=nan, t0=359300, t1=359500, text=I am very happy to be here., probability=nan, t0=359500, t1=359700, text=I am very happy to be here., probability=nan, t0=359700, t1=359900, text=I am very happy to be here., probability=nan, t0=359900, t1=360100, text=I am very happy to be here., probability=nan, t0=360100, t1=360300, text=I am very happy to be here., probability=nan, t0=360300, t1=360500, text=I am very happy to be here., probability=nan, t0=360500, t1=360700, text=I am very happy to be here., probability=nan, t0=360700, t1=360900, text=I am very happy to be here., probability=nan, t0=360900, t1=361100, text=I am very happy to be here., probability=nan, t0=361100, t1=361300, text=I am very happy to be here., probability=nan, t0=361300, t1=361500, text=I am very happy to be here., probability=nan, t0=361500, t1=361700, text=I am very happy to be here., probability=nan, t0=361700, t1=361900, text=I am very happy to be here., probability=nan, t0=361900, t1=362100, text=I am very happy to be here., probability=nan, t0=362100, t1=362300, text=I am very happy to be here., probability=nan, t0=362300, t1=362500, text=I am very happy to be here., probability=nan, t0=362500, t1=362700, text=I am very happy to be here., probability=nan, t0=362700, t1=362900, text=I am very happy to be here., probability=nan, t0=362900, t1=363100, text=I am very happy to be here., probability=nan, t0=363100, t1=363300, text=I am very happy to be here., probability=nan, t0=363300, t1=363500, text=I am very happy to be here., probability=nan, t0=363500, t1=363700, text=I am very happy to be here., probability=nan, t0=363700, t1=363900, text=I am very happy to be here., probability=nan, t0=363900, t1=364100, text=I am very happy to be here., probability=nan, t0=364100, t1=364300, text=I am very happy to be here., probability=nan, t0=364300, t1=364500, text=I am very happy to be here., probability=nan, t0=364500, t1=364700, text=I am very happy to be here., probability=nan, t0=364700, t1=364900, text=I am very happy to be here., probability=nan, t0=364900, t1=365100, text=I am very happy to be here., probability=nan, t0=365100, t1=365300, text=I am very happy to be here., probability=nan, t0=365300, t1=365500, text=I am very happy to be here., probability=nan, t0=365500, t1=365700, text=I am very happy to be here., probability=nan, t0=365700, t1=365900, text=I am very happy to be here., probability=nan, t0=365900, t1=366100, text=I am very happy to be here., probability=nan, t0=366100, t1=366300, text=I am very happy to be here., probability=nan, t0=366300, t1=366500, text=I am very happy to be here., probability=nan, t0=366500, t1=366700, text=I am very happy to be here., probability=nan, t0=366700, t1=366900, text=I am very happy to be here., probability=nan, t0=366900, t1=367100, text=I am very happy to be here., probability=nan, t0=367100, t1=367300, text=I am very happy to be here., probability=nan, t0=367300, t1=367500, text=I am very happy to be here., probability=nan, t0=367500, t1=367700, text=I am very happy to be here., probability=nan, t0=367700, t1=367900, text=I am very happy to be here., probability=nan, t0=367900, t1=368100, text=I am very happy to be here., probability=nan, t0=368100, t1=368300, text=I am very happy to be here., probability=nan, t0=368300, t1=368500, text=I am very happy to be here., probability=nan, t0=368500, t1=368700, text=I am very happy to be here., probability=nan, t0=368700, t1=368900, text=I am very happy to be here., probability=nan, t0=368900, t1=369100, text=I am very happy to be here., probability=nan, t0=369100, t1=369300, text=I am very happy to be here., probability=nan, t0=369300, t1=369500, text=I am very happy to be here., probability=nan, t0=369500, t1=369700, text=I am very happy to be here., probability=nan, t0=369700, t1=369900, text=I am very happy to be here., probability=nan, t0=369900, t1=370100, text=I am very happy to be here., probability=nan, t0=370100, t1=370300, text=I am very happy to be here., probability=nan, t0=370300, t1=370500, text=I am very happy to be here., probability=nan, t0=370500, t1=370700, text=I am very happy to be here., probability=nan, t0=370700, t1=370900, text=I am very happy to be here., probability=nan, t0=370900, t1=371100, text=I am very happy to be here., probability=nan, t0=371100, t1=371300, text=I am very happy to be here., probability=nan, t0=371300, t1=371500, text=I am very happy to be here., probability=nan, t0=371500, t1=371700, text=I am very happy to be here., probability=nan, t0=371700, t1=371900, text=I am very happy to be here., probability=nan, t0=371900, t1=372100, text=I am very happy to be here., probability=nan, t0=372100, t1=372300, text=I am very happy to be here., probability=nan, t0=372300, t1=372500, text=I am very happy to be here., probability=nan, t0=372500, t1=372700, text=I am very happy to be here., probability=nan, t0=372700, t1=372900, text=I am very happy to be here., probability=nan, t0=372900, t1=373100, text=I am very happy to be here., probability=nan, t0=373100, t1=373300, text=I am very happy to be here., probability=nan, t0=373300, t1=373500, text=I am very happy to be here., probability=nan, t0=373500, t1=373700, text=I am very happy to be here., probability=nan, t0=373700, t1=373900, text=I am very happy to be here., probability=nan, t0=373900, t1=374100, text=I am very happy to be here., probability=nan, t0=374100, t1=374300, text=I am very happy to be here., probability=nan, t0=374300, t1=374500, text=I am very happy to be here., probability=nan, t0=374500, t1=374700, text=I am very happy to be here., probability=nan, t0=374700, t1=374900, text=I am very happy to be here., probability=nan, t0=374900, t1=375100, text=I am very happy to be here., probability=nan, t0=375100, t1=375300, text=I am very happy to be here., probability=nan, t0=375300, t1=375500, text=I am very happy to be here., probability=nan, t0=375500, t1=375700, text=I am very happy to be here., probability=nan, t0=375700, t1=375900, text=I am very happy to be here., probability=nan, t0=375900, t1=376100, text=I am very happy to be here., probability=nan, t0=376100, t1=376300, text=I am very happy to be here., probability=nan, t0=376300, t1=376500, text=I am very happy to be here., probability=nan, t0=376500, t1=376700, text=I am very happy to be here., probability=nan, t0=376700, t1=376900, text=I am very happy to be here., probability=nan, t0=376900, t1=377100, text=I am very happy to be here., probability=nan, t0=377100, t1=377300, text=I am very happy to be here., probability=nan, t0=377300, t1=377500, text=I am very happy to be here., probability=nan, t0=377500, t1=377700, text=I am very happy to be here., probability=nan, t0=377700, t1=377900, text=I am very happy to be here., probability=nan, t0=377900, t1=378100, text=I am very happy to be here., probability=nan, t0=378100, t1=378300, text=I am very happy to be here., probability=nan, t0=378300, t1=378500, text=I am very happy to be here., probability=nan, t0=378500, t1=378700, text=I am very happy to be here., probability=nan, t0=378700, t1=378900, text=I am very happy to be here., probability=nan, t0=378900, t1=379100, text=I am very happy to be here., probability=nan, t0=379100, t1=379300, text=I am very happy to be here., probability=nan, t0=379300, t1=379500, text=I am very happy to be here., probability=nan, t0=379500, t1=379700, text=I am very happy to be here., probability=nan, t0=379700, t1=379900, text=I am very happy to be here., probability=nan, t0=379900, t1=380100, text=I am very happy to be here., probability=nan, t0=380100, t1=380300, text=I am very happy to be here., probability=nan, t0=380300, t1=380500, text=I am very happy to be here., probability=nan, t0=380500, t1=380700, text=I am very happy to be here., probability=nan, t0=380700, t1=380900, text=I am very happy to be here., probability=nan, t0=380900, t1=381100, text=I am very happy to be here., probability=nan, t0=381100, t1=381300, text=I am very happy to be here., probability=nan, t0=381300, t1=381500, text=I am very happy to be here., probability=nan, t0=381500, t1=381700, text=I am very happy to be here., probability=nan, t0=381700, t1=381900, text=I am very happy to be here., probability=nan, t0=381900, t1=382100, text=I am very happy to be here., probability=nan, t0=382100, t1=382300, text=I am very happy to be here., probability=nan, t0=382300, t1=382500, text=I am very happy to be here., probability=nan, t0=382500, t1=382700, text=I am very happy to be here., probability=nan, t0=382700, t1=382900, text=I am very happy to be here., probability=nan, t0=382900, t1=383100, text=I am very happy to be here., probability=nan, t0=383100, t1=383300, text=I am very happy to be here., probability=nan, t0=383300, t1=383500, text=I am very happy to be here., probability=nan, t0=383500, t1=383700, text=I am very happy to be here., probability=nan, t0=383700, t1=383900, text=I am very happy to be here., probability=nan, t0=383900, t1=384100, text=I am very happy to be here., probability=nan, t0=384100, t1=384300, text=I am very happy to be here., probability=nan, t0=384300, t1=384500, text=I am very happy to be here., probability=nan, t0=384500, t1=384700, text=I am very happy to be here., probability=nan, t0=384700, t1=384900, text=I am very happy to be here., probability=nan, t0=384900, t1=385100, text=I am very happy to be here., probability=nan, t0=385100, t1=385300, text=I am very happy to be here., probability=nan, t0=385300, t1=385500, text=I am very happy to be here., probability=nan, t0=385500, t1=385700, text=I am very happy to be here., probability=nan, t0=385700, t1=385900, text=I am very happy to be here., probability=nan, t0=385900, t1=386100, text=I am very happy to be here., probability=nan, t0=386100, t1=386300, text=I am very happy to be here., probability=nan, t0=386300, t1=386500, text=I am very happy to be here., probability=nan, t0=386500, t1=386700, text=I am very happy to be here., probability=nan, t0=386700, t1=386900, text=I am very happy to be here., probability=nan, t0=386900, t1=387100, text=I am very happy to be here., probability=nan, t0=387100, t1=387300, text=I am very happy to be here., probability=nan, t0=387300, t1=387500, text=I am very happy to be here., probability=nan, t0=387500, t1=387700, text=I am very happy to be here., probability=nan, t0=387700, t1=387900, text=I am very happy to be here., probability=nan, t0=387900, t1=388100, text=I am very happy to be here., probability=nan, t0=388100, t1=388300, text=I am very happy to be here., probability=nan, t0=388300, t1=388500, text=I am very happy to be here., probability=nan, t0=388500, t1=388700, text=I am very happy to be here., probability=nan, t0=388700, t1=388900, text=I am very happy to be here., probability=nan, t0=388900, t1=389100, text=I am very happy to be here., probability=nan, t0=389100, t1=389300, text=I am very happy to be here., probability=nan, t0=389300, t1=389500, text=I am very happy to be here., probability=nan, t0=389500, t1=389700, text=I am very happy to be here., probability=nan, t0=389700, t1=389900, text=I am very happy to be here., probability=nan, t0=389900, t1=390100, text=I am very happy to be here., probability=nan, t0=390100, t1=390300, text=I am very happy to be here., probability=nan, t0=390300, t1=390500, text=I am very happy to be here., probability=nan, t0=390500, t1=390700, text=I am very happy to be here., probability=nan, t0=390700, t1=390900, text=I am very happy to be here., probability=nan, t0=390900, t1=391100, text=I am very happy to be here., probability=nan, t0=391100, t1=391300, text=I am very happy to be here., probability=nan, t0=391300, t1=391500, text=I am very happy to be here., probability=nan, t0=391500, t1=391700, text=I am very happy to be here., probability=nan, t0=391700, t1=391900, text=I am very happy to be here., probability=nan, t0=391900, t1=392100, text=I am very happy to be here., probability=nan, t0=392100, t1=392300, text=I am very happy to be here., probability=nan, t0=392300, t1=392500, text=I am very happy to be here., probability=nan, t0=392500, t1=392700, text=I am very happy to be here., probability=nan, t0=392700, t1=392900, text=I am very happy to be here., probability=nan, t0=392900, t1=393100, text=I am very happy to be here., probability=nan, t0=393100, t1=393300, text=I am very happy to be here., probability=nan, t0=393300, t1=393500, text=I am very happy to be here., probability=nan, t0=393500, t1=393700, text=I am very happy to be here., probability=nan, t0=393700, t1=393900, text=I am very happy to be here., probability=nan, t0=393900, t1=394100, text=I am very happy to be here., probability=nan, t0=394100, t1=394300, text=I am very happy to be here., probability=nan, t0=394300, t1=394500, text=I am very happy to be here., probability=nan, t0=394500, t1=394700, text=I am very happy to be here., probability=nan, t0=394700, t1=394900, text=I am very happy to be here., probability=nan, t0=394900, t1=395100, text=I am very happy to be here., probability=nan, t0=395100, t1=395300, text=I am very happy to be here., probability=nan, t0=395300, t1=395500, text=I am very happy to be here., probability=nan, t0=395500, t1=395700, text=I am very happy to be here., probability=nan, t0=395700, t1=395900, text=I am very happy to be here., probability=nan, t0=395900, t1=396100, text=I am very happy to be here., probability=nan, t0=396100, t1=396200, text=I am very happy to be here., probability=nan, t0=396200, t1=396400, text=I am very happy to be here., probability=nan, t0=396400, t1=396600, text=I am very happy to be here., probability=nan, t0=396600, t1=396800, text=I am very happy to be here., probability=nan, t0=396800, t1=397000, text=I am very happy to be here., probability=nan, t0=397000, t1=397200, text=I am very happy to be here., probability=nan, t0=397200, t1=397400, text=I am very happy to be here., probability=nan, t0=397400, t1=397600, text=I am very happy to be here., probability=nan, t0=397600, t1=397800, text=I am very happy to be here., probability=nan, t0=397800, t1=398000, text=I am very happy to be here., probability=nan, t0=398000, t1=398200, text=I am very happy to be here., probability=nan, t0=398200, t1=398400, text=I am very happy to be here., probability=nan, t0=398400, t1=398600, text=I am very happy to be here., probability=nan, t0=398600, t1=398800, text=I am very happy to be here., probability=nan, t0=398800, t1=399000, text=I am very happy to be here., probability=nan, t0=399000, t1=399200, text=I am very happy to be here., probability=nan, t0=399200, t1=399400, text=I am very happy to be here., probability=nan, t0=399400, t1=399600, text=I am very happy to be here., probability=nan, t0=399600, t1=399800, text=I am very happy to be here., probability=nan, t0=399800, t1=400000, text=I am very happy to be here., probability=nan, t0=400000, t1=400200, text=I am very happy to be here., probability=nan, t0=400200, t1=400400, text=I am very happy to be here., probability=nan, t0=400400, t1=400600, text=I am very happy to be here., probability=nan, t0=400600, t1=400800, text=I am very happy to be here., probability=nan, t0=400800, t1=401000, text=I am very happy to be here., probability=nan, t0=401000, t1=401200, text=I am very happy to be here., probability=nan, t0=401200, t1=401400, text=I am very happy to be here., probability=nan, t0=401400, t1=401600, text=I am very happy to be here., probability=nan, t0=401600, t1=401800, text=I am very happy to be here., probability=nan, t0=401800, t1=402000, text=I am very happy to be here., probability=nan, t0=402000, t1=402200, text=I am very happy to be here., probability=nan, t0=402200, t1=402400, text=I am very happy to be here., probability=nan, t0=402400, t1=402600, text=I am very happy to be here., probability=nan, t0=402600, t1=402800, text=I am very happy to be here., probability=nan, t0=402800, t1=403000, text=I am very happy to be here., probability=nan, t0=403000, t1=403200, text=I am very happy to be here., probability=nan, t0=403200, t1=403400, text=I am very happy to be here., probability=nan, t0=403400, t1=403600, text=I am very happy to be here., probability=nan, t0=403600, t1=403800, text=I am very happy to be here., probability=nan, t0=403800, t1=404000, text=I am very happy to be here., probability=nan, t0=404000, t1=404200, text=I am very happy to be here., probability=nan, t0=404200, t1=404400, text=I am very happy to be here., probability=nan, t0=404400, t1=404600, text=I am very happy to be here., probability=nan, t0=404600, t1=404800, text=I am very happy to be here., probability=nan, t0=404800, t1=405000, text=I am very happy to be here., probability=nan, t0=405000, t1=405200, text=I am very happy to be here., probability=nan, t0=405200, t1=405400, text=I am very happy to be here., probability=nan, t0=405400, t1=405600, text=I am very happy to be here., probability=nan, t0=405600, t1=405800, text=I am very happy to be here., probability=nan, t0=405800, t1=406000, text=I am very happy to be here., probability=nan, t0=406000, t1=406200, text=I am very happy to be here., probability=nan, t0=406200, t1=406400, text=I am very happy to be here., probability=nan, t0=406400, t1=406600, text=I am very happy to be here., probability=nan, t0=406600, t1=406800, text=I am very happy to be here., probability=nan, t0=406800, t1=407000, text=I am very happy to be here., probability=nan, t0=407000, t1=407200, text=I am very happy to be here., probability=nan, t0=407200, t1=407400, text=I am very happy to be here., probability=nan, t0=407400, t1=407600, text=I am very happy to be here., probability=nan, t0=407600, t1=407800, text=I am very happy to be here., probability=nan, t0=407800, t1=408000, text=I am very happy to be here., probability=nan, t0=408000, t1=408200, text=I am very happy to be here., probability=nan, t0=408200, t1=408400, text=I am very happy to be here., probability=nan, t0=408400, t1=408600, text=I am very happy to be here., probability=nan, t0=408600, t1=408800, text=I am very happy to be here., probability=nan, t0=408800, t1=409000, text=I am very happy to be here., probability=nan, t0=409000, t1=409200, text=I am very happy to be here., probability=nan, t0=409200, t1=409400, text=I am very happy to be here., probability=nan, t0=409400, t1=409600, text=I am very happy to be here., probability=nan, t0=409600, t1=409800, text=I am very happy to be here., probability=nan, t0=409800, t1=410000, text=I am very happy to be here., probability=nan, t0=410000, t1=410200, text=I am very happy to be here., probability=nan, t0=410200, t1=410400, text=I am very happy to be here., probability=nan, t0=410400, t1=410600, text=I am very happy to be here., probability=nan, t0=410600, t1=410800, text=I am very happy to be here., probability=nan, t0=410800, t1=411000, text=I am very happy to be here., probability=nan, t0=411000, t1=411200, text=I am very happy to be here., probability=nan, t0=411200, t1=411400, text=I am very happy to be here., probability=nan, t0=411400, t1=411600, text=I am very happy to be here., probability=nan, t0=411600, t1=411800, text=I am very happy to be here., probability=nan, t0=411800, t1=412000, text=I am very happy to be here., probability=nan, t0=412000, t1=412200, text=I am very happy to be here., probability=nan, t0=412200, t1=412400, text=I am very happy to be here., probability=nan, t0=412400, t1=412600, text=I am very happy to be here., probability=nan, t0=412600, t1=412800, text=I am very happy to be here., probability=nan, t0=412800, t1=413000, text=I am very happy to be here., probability=nan, t0=413000, t1=413200, text=I am very happy to be here., probability=nan, t0=413200, t1=413400, text=I am very happy to be here., probability=nan, t0=413400, t1=413600, text=I am very happy to be here., probability=nan, t0=413600, t1=413800, text=I am very happy to be here., probability=nan, t0=413800, t1=414000, text=I am very happy to be here., probability=nan, t0=414000, t1=414200, text=I am very happy to be here., probability=nan, t0=414200, t1=414400, text=I am very happy to be here., probability=nan, t0=414400, t1=414600, text=I am very happy to be here., probability=nan, t0=414600, t1=414800, text=I am very happy to be here., probability=nan, t0=414800, t1=415000, text=I am very happy to be here., probability=nan, t0=415000, t1=415200, text=I am very happy to be here., probability=nan, t0=415200, t1=415400, text=I am very happy to be here., probability=nan, t0=415400, t1=415600, text=I am very happy to be here., probability=nan, t0=415600, t1=415800, text=I am very happy to be here., probability=nan, t0=415800, t1=416000, text=I am very happy to be here., probability=nan, t0=416000, t1=416200, text=I am very happy to be here., probability=nan, t0=416200, t1=416400, text=I am very happy to be here., probability=nan, t0=416400, t1=416600, text=I am very happy to be here., probability=nan, t0=416600, t1=416800, text=I am very happy to be here., probability=nan, t0=416800, t1=417000, text=I am very happy to be here., probability=nan, t0=417000, t1=417200, text=I am very happy to be here., probability=nan, t0=417200, t1=417400, text=I am very happy to be here., probability=nan, t0=417400, t1=417600, text=I am very happy to be here., probability=nan, t0=417600, t1=417800, text=I am very happy to be here., probability=nan, t0=417800, t1=418000, text=I am very happy to be here., probability=nan, t0=418000, t1=418200, text=I am very happy to be here., probability=nan, t0=418200, t1=418400, text=I am very happy to be here., probability=nan, t0=418400, t1=418600, text=I am very happy to be here., probability=nan, t0=418600, t1=418800, text=I am very happy to be here., probability=nan, t0=418800, t1=419000, text=I am very happy to be here., probability=nan, t0=419000, t1=419200, text=I am very happy to be here., probability=nan, t0=419200, t1=419400, text=I am very happy to be here., probability=nan, t0=419400, t1=419600, text=I am very happy to be here., probability=nan, t0=419600, t1=419800, text=I am very happy to be here., probability=nan, t0=419800, t1=420000, text=I am very happy to be here., probability=nan, t0=420000, t1=420200, text=I am very happy to be here., probability=nan, t0=420200, t1=420400, text=I am very happy to be here., probability=nan, t0=420400, t1=420600, text=I am very happy to be here., probability=nan, t0=420600, t1=420800, text=I am very happy to be here., probability=nan, t0=420800, t1=421000, text=I am very happy to be here., probability=nan, t0=421000, t1=421200, text=I am very happy to be here., probability=nan, t0=421200, t1=421400, text=I am very happy to be here., probability=nan, t0=421400, t1=421600, text=I am very happy to be here., probability=nan, t0=421600, t1=421800, text=I am very happy to be here., probability=nan, t0=421800, t1=422000, text=I am very happy to be here., probability=nan, t0=422000, t1=422200, text=I am very happy to be here., probability=nan, t0=422200, t1=422400, text=I am very happy to be here., probability=nan, t0=422400, t1=422600, text=I am very happy to be here., probability=nan, t0=422600, t1=422800, text=I am very happy to be here., probability=nan, t0=422800, t1=423000, text=I am very happy to be here., probability=nan, t0=423000, t1=423200, text=I am very happy to be here., probability=nan, t0=423200, t1=423400, text=I am very happy to be here., probability=nan, t0=423400, t1=423600, text=I am very happy to be here., probability=nan, t0=423600, t1=423800, text=I am very happy to be here., probability=nan, t0=423800, t1=424000, text=I am very happy to be here., probability=nan, t0=424000, t1=424200, text=I am very happy to be here., probability=nan, t0=424200, t1=424400, text=I am very happy to be here., probability=nan, t0=424400, t1=424600, text=I am very happy to be here., probability=nan, t0=424600, t1=424800, text=I am very happy to be here., probability=nan, t0=424800, t1=425000, text=I am very happy to be here., probability=nan, t0=425000, t1=425200, text=I am very happy to be here., probability=nan, t0=425200, t1=425400, text=I am very happy to be here., probability=nan, t0=425400, t1=425600, text=I am very happy to be here., probability=nan, t0=425600, t1=425800, text=I am very happy to be here., probability=nan, t0=425800, t1=426000, text=I am very happy to be here., probability=nan, t0=426000, t1=426200, text=I am very happy to be here., probability=nan, t0=426200, t1=426400, text=I am very happy to be here., probability=nan, t0=426400, t1=426600, text=I am very happy to be here., probability=nan, t0=426600, t1=426800, text=I am very happy to be here., probability=nan, t0=426800, t1=427000, text=I am very happy to be here., probability=nan, t0=427000, t1=427200, text=I am very happy to be here., probability=nan, t0=427200, t1=427400, text=I am very happy to be here., probability=nan, t0=427400, t1=427600, text=I am very happy to be here., probability=nan, t0=427600, t1=427800, text=I am very happy to be here., probability=nan, t0=427800, t1=428000, text=I am very happy to be here., probability=nan, t0=428000, t1=428200, text=I am very happy to be here., probability=nan, t0=428200, t1=428400, text=I am very happy to be here., probability=nan, t0=428400, t1=428600, text=I am very happy to be here., probability=nan, t0=428600, t1=428800, text=I am very happy to be here., probability=nan, t0=428800, t1=429000, text=I am very happy to be here., probability=nan, t0=429000, t1=429200, text=I am very happy to be here., probability=nan, t0=429200, t1=429400, text=I am very happy to be here., probability=nan, t0=429400, t1=429600, text=I am very happy to be here., probability=nan, t0=429600, t1=429800, text=I am very happy to be here., probability=nan, t0=429800, t1=430000, text=I am very happy to be here., probability=nan, t0=430000, t1=430200, text=I am very happy to be here., probability=nan, t0=430200, t1=430400, text=I am very happy to be here., probability=nan, t0=430400, t1=430600, text=I am very happy to be here., probability=nan, t0=430600, t1=430800, text=I am very happy to be here., probability=nan, t0=430800, t1=431000, text=I am very happy to be here., probability=nan, t0=431000, t1=431200, text=I am very happy to be here., probability=nan, t0=431200, t1=431400, text=I am very happy to be here., probability=nan, t0=431400, t1=431600, text=I am very happy to be here., probability=nan, t0=431600, t1=431800, text=I am very happy to be here., probability=nan, t0=431800, t1=432000, text=I am very happy to be here., probability=nan, t0=432000, t1=432200, text=I am very happy to be here., probability=nan, t0=432200, t1=432400, text=I am very happy to be here., probability=nan, t0=432400, t1=432600, text=I am very happy to be here., probability=nan, t0=432600, t1=432800, text=I am very happy to be here., probability=nan, t0=432800, t1=433000, text=I am very happy to be here., probability=nan, t0=433000, t1=433200, text=I am very happy to be here., probability=nan, t0=433200, t1=433400, text=I am very happy to be here., probability=nan, t0=433400, t1=433600, text=I am very happy to be here., probability=nan, t0=433600, t1=433800, text=I am very happy to be here., probability=nan, t0=433800, t1=434000, text=I am very happy to be here., probability=nan, t0=434000, t1=434200, text=I am very happy to be here., probability=nan, t0=434200, t1=434400, text=I am very happy to be here., probability=nan, t0=434400, t1=434600, text=I am very happy to be here., probability=nan, t0=434600, t1=434800, text=I am very happy to be here., probability=nan, t0=434800, t1=435000, text=I am very happy to be here., probability=nan, t0=435000, t1=435200, text=I am very happy to be here., probability=nan, t0=435200, t1=435400, text=I am very happy to be here., probability=nan, t0=435400, t1=435600, text=I am very happy to be here., probability=nan, t0=435600, t1=435800, text=I am very happy to be here., probability=nan, t0=435800, t1=436000, text=I am very happy to be here., probability=nan, t0=436000, t1=436200, text=I am very happy to be here., probability=nan, t0=436200, t1=436400, text=I am very happy to be here., probability=nan, t0=436400, t1=436600, text=I am very happy to be here., probability=nan, t0=436600, t1=436800, text=I am very happy to be here., probability=nan, t0=436800, t1=437000, text=I am very happy to be here., probability=nan, t0=437000, t1=437200, text=I am very happy to be here., probability=nan, t0=437200, t1=437400, text=I am very happy to be here., probability=nan, t0=437400, t1=437600, text=I am very happy to be here., probability=nan, t0=437600, t1=437800, text=I am very happy to be here., probability=nan, t0=437800, t1=438000, text=I am very happy to be here., probability=nan, t0=438000, t1=438200, text=I am very happy to be here., probability=nan, t0=438200, t1=438400, text=I am very happy to be here., probability=nan, t0=438400, t1=438600, text=I am very happy to be here., probability=nan, t0=438600, t1=438800, text=I am very happy to be here., probability=nan, t0=438800, t1=439000, text=I am very happy to be here., probability=nan, t0=439000, t1=439200, text=I am very happy to be here., probability=nan, t0=439200, t1=439400, text=I am very happy to be here., probability=nan, t0=439400, t1=439600, text=I am very happy to be here., probability=nan, t0=439600, t1=439800, text=I am very happy to be here., probability=nan, t0=439800, t1=440000, text=I am very happy to be here., probability=nan, t0=440000, t1=440200, text=I am very happy to be here., probability=nan, t0=440200, t1=440400, text=I am very happy to be here., probability=nan, t0=440400, t1=440600, text=I am very happy to be here., probability=nan, t0=440600, t1=440800, text=I am very happy to be here., probability=nan, t0=440800, t1=441000, text=I am very happy to be here., probability=nan, t0=441000, t1=441200, text=I am very happy to be here., probability=nan, t0=441200, t1=441400, text=I am very happy to be here., probability=nan, t0=441400, t1=441600, text=I am very happy to be here., probability=nan, t0=441600, t1=441800, text=I am very happy to be here., probability=nan, t0=441800, t1=442000, text=I am very happy to be here., probability=nan, t0=442000, t1=442200, text=I am very happy to be here., probability=nan, t0=442200, t1=442400, text=I am very happy to be here., probability=nan, t0=442400, t1=442600, text=I am very happy to be here., probability=nan, t0=442600, t1=442800, text=I am very happy to be here., probability=nan, t0=442800, t1=443000, text=I am very happy to be here., probability=nan, t0=443000, t1=443200, text=I am very happy to be here., probability=nan, t0=443200, t1=443400, text=I am very happy to be here., probability=nan, t0=443400, t1=443600, text=I am very happy to be here., probability=nan, t0=443600, t1=443800, text=I am very happy to be here., probability=nan, t0=443800, t1=444000, text=I am very happy to be here., probability=nan, t0=444000, t1=444200, text=I am very happy to be here., probability=nan, t0=444200, t1=444400, text=I am very happy to be here., probability=nan, t0=444400, t1=444600, text=I am very happy to be here., probability=nan, t0=444600, t1=444800, text=I am very happy to be here., probability=nan, t0=444800, t1=445000, text=I am very happy to be here., probability=nan, t0=445000, t1=445200, text=I am very happy to be here., probability=nan, t0=445200, t1=445400, text=I am very happy to be here., probability=nan, t0=445400, t1=445600, text=I am very happy to be here., probability=nan, t0=445600, t1=445800, text=I am very happy to be here., probability=nan, t0=445800, t1=446000, text=I am very happy to be here., probability=nan, t0=446000, t1=446200, text=I am very happy to be here., probability=nan, t0=446200, t1=446400, text=I am very happy to be here., probability=nan, t0=446400, t1=446600, text=I am very happy to be here., probability=nan, t0=446600, t1=446800, text=I am very happy to be here., probability=nan, t0=446800, t1=447000, text=I am very happy to be here., probability=nan, t0=447000, t1=447200, text=I am very happy to be here., probability=nan, t0=447200, t1=447400, text=I am very happy to be here., probability=nan, t0=447400, t1=447600, text=I am very happy to be here., probability=nan, t0=447600, t1=447800, text=I am very happy to be here., probability=nan, t0=447800, t1=448000, text=I am very happy to be here., probability=nan, t0=448000, t1=448200, text=I am very happy to be here., probability=nan, t0=448200, t1=448400, text=I am very happy to be here., probability=nan, t0=448400, t1=448600, text=I am very happy to be here., probability=nan, t0=448600, t1=448800, text=I am very happy to be here., probability=nan, t0=448800, t1=449000, text=I am very happy to be here., probability=nan]\n",
      "store_transcript_in_db - start\n",
      "store_transcript_in_db - end\n"
     ]
    },
    {
     "name": "stderr",
     "output_type": "stream",
     "text": [
      "Progress: 100%\n"
     ]
    }
   ],
   "source": [
    "process_episodes(\n",
    "    feed_url='https://feeds.acast.com/public/shows/floodcast',\n",
    "    episodes_items='4',\n",
    "    transcription=True,\n",
    "    download=True,\n",
    "    # model_name='large-v3'\n",
    ")"
   ]
  },
  {
   "cell_type": "code",
   "execution_count": 12,
   "id": "85f8d2cc",
   "metadata": {},
   "outputs": [
    {
     "name": "stderr",
     "output_type": "stream",
     "text": [
      "whisper_init_from_file_with_params_no_state: loading model from '/Users/quentin/dev/podcast_audio_extractor/whisper.cpp/models/ggml-large-v3.bin'\n",
      "whisper_init_with_params_no_state: use gpu    = 1\n",
      "whisper_init_with_params_no_state: flash attn = 0\n",
      "whisper_init_with_params_no_state: gpu_device = 0\n",
      "whisper_init_with_params_no_state: dtw        = 0\n",
      "whisper_init_with_params_no_state: devices    = 3\n",
      "whisper_init_with_params_no_state: backends   = 3\n",
      "whisper_model_load: loading model\n",
      "whisper_model_load: n_vocab       = 51866\n",
      "whisper_model_load: n_audio_ctx   = 1500\n",
      "whisper_model_load: n_audio_state = 1280\n",
      "whisper_model_load: n_audio_head  = 20\n",
      "whisper_model_load: n_audio_layer = 32\n",
      "whisper_model_load: n_text_ctx    = 448\n",
      "whisper_model_load: n_text_state  = 1280\n",
      "whisper_model_load: n_text_head   = 20\n",
      "whisper_model_load: n_text_layer  = 32\n",
      "whisper_model_load: n_mels        = 128\n",
      "whisper_model_load: ftype         = 1\n",
      "whisper_model_load: qntvr         = 0\n",
      "whisper_model_load: type          = 5 (large v3)\n",
      "whisper_model_load: adding 1609 extra tokens\n",
      "whisper_model_load: n_langs       = 100\n",
      "whisper_default_buffer_type: using device Metal (Apple M2)\n",
      "whisper_model_load:    Metal total size =  3094.36 MB\n",
      "whisper_model_load: model size    = 3094.36 MB\n",
      "whisper_backend_init_gpu: using Metal backend\n",
      "ggml_metal_init: allocating\n",
      "ggml_metal_init: found device: Apple M2\n",
      "ggml_metal_init: picking default device: Apple M2\n",
      "ggml_metal_init: using embedded metal library\n",
      "ggml_metal_init: GPU name:   Apple M2\n",
      "ggml_metal_init: GPU family: MTLGPUFamilyApple8  (1008)\n",
      "ggml_metal_init: GPU family: MTLGPUFamilyCommon3 (3003)\n",
      "ggml_metal_init: GPU family: MTLGPUFamilyMetal4  (5002)\n",
      "ggml_metal_init: simdgroup reduction   = true\n",
      "ggml_metal_init: simdgroup matrix mul. = true\n",
      "ggml_metal_init: has bfloat            = true\n",
      "ggml_metal_init: use bfloat            = false\n",
      "ggml_metal_init: hasUnifiedMemory      = true\n",
      "ggml_metal_init: recommendedMaxWorkingSetSize  = 12713.12 MB\n",
      "ggml_metal_init: skipping kernel_get_rows_bf16                     (not supported)\n",
      "ggml_metal_init: skipping kernel_mul_mv_bf16_f32                   (not supported)\n",
      "ggml_metal_init: skipping kernel_mul_mv_bf16_f32_1row              (not supported)\n",
      "ggml_metal_init: skipping kernel_mul_mv_bf16_f32_l4                (not supported)\n",
      "ggml_metal_init: skipping kernel_mul_mv_bf16_bf16                  (not supported)\n",
      "ggml_metal_init: skipping kernel_mul_mv_id_bf16_f32                (not supported)\n",
      "ggml_metal_init: skipping kernel_mul_mm_bf16_f32                   (not supported)\n",
      "ggml_metal_init: skipping kernel_mul_mm_id_bf16_f32                (not supported)\n",
      "ggml_metal_init: skipping kernel_flash_attn_ext_bf16_h64           (not supported)\n",
      "ggml_metal_init: skipping kernel_flash_attn_ext_bf16_h80           (not supported)\n",
      "ggml_metal_init: skipping kernel_flash_attn_ext_bf16_h96           (not supported)\n",
      "ggml_metal_init: skipping kernel_flash_attn_ext_bf16_h112          (not supported)\n",
      "ggml_metal_init: skipping kernel_flash_attn_ext_bf16_h128          (not supported)\n",
      "ggml_metal_init: skipping kernel_flash_attn_ext_bf16_h256          (not supported)\n",
      "ggml_metal_init: skipping kernel_flash_attn_ext_vec_bf16_h128      (not supported)\n",
      "ggml_metal_init: skipping kernel_flash_attn_ext_vec_bf16_h256      (not supported)\n",
      "ggml_metal_init: skipping kernel_cpy_f32_bf16                      (not supported)\n",
      "ggml_metal_init: skipping kernel_cpy_bf16_f32                      (not supported)\n",
      "ggml_metal_init: skipping kernel_cpy_bf16_bf16                     (not supported)\n",
      "whisper_backend_init: using BLAS backend\n",
      "whisper_init_state: kv self size  =   83.89 MB\n",
      "whisper_init_state: kv cross size =  251.66 MB\n",
      "whisper_init_state: kv pad  size  =    7.86 MB\n",
      "whisper_init_state: loading Core ML model from '/Users/quentin/dev/podcast_audio_extractor/whisper.cpp/models/ggml-large-v3-encoder.mlmodelc'\n",
      "whisper_init_state: first run on a device may take a while ...\n",
      "whisper_init_state: Core ML model loaded\n",
      "whisper_init_state: compute buffer (conv)   =   10.79 MB\n",
      "whisper_init_state: compute buffer (cross)  =   16.93 MB\n",
      "whisper_init_state: compute buffer (decode) =  100.03 MB\n"
     ]
    },
    {
     "name": "stdout",
     "output_type": "stream",
     "text": [
      "starting transcription...\n"
     ]
    },
    {
     "name": "stderr",
     "output_type": "stream",
     "text": [
      "Progress:   0%\n",
      "Progress:  36%\n",
      "Progress:  78%\n"
     ]
    },
    {
     "name": "stdout",
     "output_type": "stream",
     "text": [
      "end transcription [t0=0, t1=140, text=Message publicitaire., probability=nan, t0=140, t1=1022, text=Le médicament Daflon 500 mg, indiqué pour soulager les jambes lourdes et douloureuses dues à l'insuffisance veineuse, agit en renforçant le tonus veineux et en protégeant les vaisseaux sanguins., probability=nan, t0=1022, t1=1874, text=Son efficacité a été cliniquement démontrée dans le traitement des troubles de la circulation veineuse, jambes lourdes, douleurs, impatience, en complément des mesures hygiéno-diététiques., probability=nan, t0=1874, t1=2034, text=Rendez-vous sur Daflon.fr., probability=nan, t0=2034, t1=2624, text=Daflon 500 mg, composé de fractions flavonoïques purifiées micronisées et réservées à l'adulte, est disponible en pharmacie sans ordonnance., probability=nan, t0=2624, t1=3006, text=Tout médicament peut exposer à des risques. Parlez-en à votre pharmacien et lisez attentivement la notice., probability=nan, t0=3006, t1=3230, text=Si les symptômes persistent, consultez votre médecin., probability=nan, t0=5624, t1=6090, text=Ah non, je suis là. Vous qui n'avez pas d'invité pour nous mettre la honte de cette intro., probability=nan, t0=6090, t1=6388, text=Bonjour, bonsoir et bienvenue dans ce nouvel épisode et dernier., probability=nan, t0=6388, t1=6560, text=Ah, je le dis quand même., probability=nan, t0=6560, t1=7028, text=Parce que je me disais, est-ce qu'il va faire le truc de bienvenue dans ce dernier épisode du podcast ?, probability=nan, t0=7028, t1=7164, text=Ah non, je le fais à l'arrache quand même., probability=nan]\n",
      "store_transcript_in_db - start\n",
      "store_transcript_in_db - end\n"
     ]
    },
    {
     "name": "stderr",
     "output_type": "stream",
     "text": [
      "Progress: 100%\n",
      "ggml_metal_free: deallocating\n"
     ]
    }
   ],
   "source": [
    "transcript_segments = transcribe('s10e43_tiny_benchmark.mp3','large-v3')\n",
    "# storing the gathered segments and store them in db\n",
    "store_transcripts_in_db(transcript_segments, 31)"
   ]
  }
 ],
 "metadata": {
  "kernelspec": {
   "display_name": ".venv",
   "language": "python",
   "name": "python3"
  },
  "language_info": {
   "codemirror_mode": {
    "name": "ipython",
    "version": 3
   },
   "file_extension": ".py",
   "mimetype": "text/x-python",
   "name": "python",
   "nbconvert_exporter": "python",
   "pygments_lexer": "ipython3",
   "version": "3.11.13"
  }
 },
 "nbformat": 4,
 "nbformat_minor": 5
}
